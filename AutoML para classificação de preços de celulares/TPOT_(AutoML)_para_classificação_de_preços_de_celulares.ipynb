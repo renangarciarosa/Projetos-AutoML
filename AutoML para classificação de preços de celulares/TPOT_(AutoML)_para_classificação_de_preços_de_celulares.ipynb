{
  "nbformat": 4,
  "nbformat_minor": 0,
  "metadata": {
    "colab": {
      "provenance": []
    },
    "kernelspec": {
      "name": "python3",
      "display_name": "Python 3"
    },
    "language_info": {
      "name": "python"
    },
    "accelerator": "GPU",
    "gpuClass": "standard",
    "widgets": {
      "application/vnd.jupyter.widget-state+json": {
        "41be7ca91c414f318c19c74844c1c686": {
          "model_module": "@jupyter-widgets/controls",
          "model_name": "HBoxModel",
          "model_module_version": "1.5.0",
          "state": {
            "_dom_classes": [],
            "_model_module": "@jupyter-widgets/controls",
            "_model_module_version": "1.5.0",
            "_model_name": "HBoxModel",
            "_view_count": null,
            "_view_module": "@jupyter-widgets/controls",
            "_view_module_version": "1.5.0",
            "_view_name": "HBoxView",
            "box_style": "",
            "children": [
              "IPY_MODEL_e08ef42d3470497aad299b1928e35492",
              "IPY_MODEL_7455a7f3913742c9b426ec9783139fb9",
              "IPY_MODEL_9e4acfbfdab34a3c99c55ff31a557a13"
            ],
            "layout": "IPY_MODEL_e545f2d2ccf748e9a226d24b21c5e8ff"
          }
        },
        "e08ef42d3470497aad299b1928e35492": {
          "model_module": "@jupyter-widgets/controls",
          "model_name": "HTMLModel",
          "model_module_version": "1.5.0",
          "state": {
            "_dom_classes": [],
            "_model_module": "@jupyter-widgets/controls",
            "_model_module_version": "1.5.0",
            "_model_name": "HTMLModel",
            "_view_count": null,
            "_view_module": "@jupyter-widgets/controls",
            "_view_module_version": "1.5.0",
            "_view_name": "HTMLView",
            "description": "",
            "description_tooltip": null,
            "layout": "IPY_MODEL_9ee64801374c46a8914fcc306e3e8a68",
            "placeholder": "​",
            "style": "IPY_MODEL_140bf1cf6c1a4bbea3c05367690c1bdf",
            "value": "Optimization Progress: 100%"
          }
        },
        "7455a7f3913742c9b426ec9783139fb9": {
          "model_module": "@jupyter-widgets/controls",
          "model_name": "FloatProgressModel",
          "model_module_version": "1.5.0",
          "state": {
            "_dom_classes": [],
            "_model_module": "@jupyter-widgets/controls",
            "_model_module_version": "1.5.0",
            "_model_name": "FloatProgressModel",
            "_view_count": null,
            "_view_module": "@jupyter-widgets/controls",
            "_view_module_version": "1.5.0",
            "_view_name": "ProgressView",
            "bar_style": "",
            "description": "",
            "description_tooltip": null,
            "layout": "IPY_MODEL_1c03728b5c864dfd9e0aeeb16e3effde",
            "max": 420,
            "min": 0,
            "orientation": "horizontal",
            "style": "IPY_MODEL_82f7a1c0c6cf41bcbc7cb7453be6a9ed",
            "value": 420
          }
        },
        "9e4acfbfdab34a3c99c55ff31a557a13": {
          "model_module": "@jupyter-widgets/controls",
          "model_name": "HTMLModel",
          "model_module_version": "1.5.0",
          "state": {
            "_dom_classes": [],
            "_model_module": "@jupyter-widgets/controls",
            "_model_module_version": "1.5.0",
            "_model_name": "HTMLModel",
            "_view_count": null,
            "_view_module": "@jupyter-widgets/controls",
            "_view_module_version": "1.5.0",
            "_view_name": "HTMLView",
            "description": "",
            "description_tooltip": null,
            "layout": "IPY_MODEL_0f0e9bd76e1743d2ac0b9aa9174e33c1",
            "placeholder": "​",
            "style": "IPY_MODEL_95b9ef4c42214c21a8f22af77e81aaa8",
            "value": " 420/420 [38:48&lt;00:00, 11.50s/pipeline]"
          }
        },
        "e545f2d2ccf748e9a226d24b21c5e8ff": {
          "model_module": "@jupyter-widgets/base",
          "model_name": "LayoutModel",
          "model_module_version": "1.2.0",
          "state": {
            "_model_module": "@jupyter-widgets/base",
            "_model_module_version": "1.2.0",
            "_model_name": "LayoutModel",
            "_view_count": null,
            "_view_module": "@jupyter-widgets/base",
            "_view_module_version": "1.2.0",
            "_view_name": "LayoutView",
            "align_content": null,
            "align_items": null,
            "align_self": null,
            "border": null,
            "bottom": null,
            "display": null,
            "flex": null,
            "flex_flow": null,
            "grid_area": null,
            "grid_auto_columns": null,
            "grid_auto_flow": null,
            "grid_auto_rows": null,
            "grid_column": null,
            "grid_gap": null,
            "grid_row": null,
            "grid_template_areas": null,
            "grid_template_columns": null,
            "grid_template_rows": null,
            "height": null,
            "justify_content": null,
            "justify_items": null,
            "left": null,
            "margin": null,
            "max_height": null,
            "max_width": null,
            "min_height": null,
            "min_width": null,
            "object_fit": null,
            "object_position": null,
            "order": null,
            "overflow": null,
            "overflow_x": null,
            "overflow_y": null,
            "padding": null,
            "right": null,
            "top": null,
            "visibility": "hidden",
            "width": null
          }
        },
        "9ee64801374c46a8914fcc306e3e8a68": {
          "model_module": "@jupyter-widgets/base",
          "model_name": "LayoutModel",
          "model_module_version": "1.2.0",
          "state": {
            "_model_module": "@jupyter-widgets/base",
            "_model_module_version": "1.2.0",
            "_model_name": "LayoutModel",
            "_view_count": null,
            "_view_module": "@jupyter-widgets/base",
            "_view_module_version": "1.2.0",
            "_view_name": "LayoutView",
            "align_content": null,
            "align_items": null,
            "align_self": null,
            "border": null,
            "bottom": null,
            "display": null,
            "flex": null,
            "flex_flow": null,
            "grid_area": null,
            "grid_auto_columns": null,
            "grid_auto_flow": null,
            "grid_auto_rows": null,
            "grid_column": null,
            "grid_gap": null,
            "grid_row": null,
            "grid_template_areas": null,
            "grid_template_columns": null,
            "grid_template_rows": null,
            "height": null,
            "justify_content": null,
            "justify_items": null,
            "left": null,
            "margin": null,
            "max_height": null,
            "max_width": null,
            "min_height": null,
            "min_width": null,
            "object_fit": null,
            "object_position": null,
            "order": null,
            "overflow": null,
            "overflow_x": null,
            "overflow_y": null,
            "padding": null,
            "right": null,
            "top": null,
            "visibility": null,
            "width": null
          }
        },
        "140bf1cf6c1a4bbea3c05367690c1bdf": {
          "model_module": "@jupyter-widgets/controls",
          "model_name": "DescriptionStyleModel",
          "model_module_version": "1.5.0",
          "state": {
            "_model_module": "@jupyter-widgets/controls",
            "_model_module_version": "1.5.0",
            "_model_name": "DescriptionStyleModel",
            "_view_count": null,
            "_view_module": "@jupyter-widgets/base",
            "_view_module_version": "1.2.0",
            "_view_name": "StyleView",
            "description_width": ""
          }
        },
        "1c03728b5c864dfd9e0aeeb16e3effde": {
          "model_module": "@jupyter-widgets/base",
          "model_name": "LayoutModel",
          "model_module_version": "1.2.0",
          "state": {
            "_model_module": "@jupyter-widgets/base",
            "_model_module_version": "1.2.0",
            "_model_name": "LayoutModel",
            "_view_count": null,
            "_view_module": "@jupyter-widgets/base",
            "_view_module_version": "1.2.0",
            "_view_name": "LayoutView",
            "align_content": null,
            "align_items": null,
            "align_self": null,
            "border": null,
            "bottom": null,
            "display": null,
            "flex": null,
            "flex_flow": null,
            "grid_area": null,
            "grid_auto_columns": null,
            "grid_auto_flow": null,
            "grid_auto_rows": null,
            "grid_column": null,
            "grid_gap": null,
            "grid_row": null,
            "grid_template_areas": null,
            "grid_template_columns": null,
            "grid_template_rows": null,
            "height": null,
            "justify_content": null,
            "justify_items": null,
            "left": null,
            "margin": null,
            "max_height": null,
            "max_width": null,
            "min_height": null,
            "min_width": null,
            "object_fit": null,
            "object_position": null,
            "order": null,
            "overflow": null,
            "overflow_x": null,
            "overflow_y": null,
            "padding": null,
            "right": null,
            "top": null,
            "visibility": null,
            "width": null
          }
        },
        "82f7a1c0c6cf41bcbc7cb7453be6a9ed": {
          "model_module": "@jupyter-widgets/controls",
          "model_name": "ProgressStyleModel",
          "model_module_version": "1.5.0",
          "state": {
            "_model_module": "@jupyter-widgets/controls",
            "_model_module_version": "1.5.0",
            "_model_name": "ProgressStyleModel",
            "_view_count": null,
            "_view_module": "@jupyter-widgets/base",
            "_view_module_version": "1.2.0",
            "_view_name": "StyleView",
            "bar_color": null,
            "description_width": ""
          }
        },
        "0f0e9bd76e1743d2ac0b9aa9174e33c1": {
          "model_module": "@jupyter-widgets/base",
          "model_name": "LayoutModel",
          "model_module_version": "1.2.0",
          "state": {
            "_model_module": "@jupyter-widgets/base",
            "_model_module_version": "1.2.0",
            "_model_name": "LayoutModel",
            "_view_count": null,
            "_view_module": "@jupyter-widgets/base",
            "_view_module_version": "1.2.0",
            "_view_name": "LayoutView",
            "align_content": null,
            "align_items": null,
            "align_self": null,
            "border": null,
            "bottom": null,
            "display": null,
            "flex": null,
            "flex_flow": null,
            "grid_area": null,
            "grid_auto_columns": null,
            "grid_auto_flow": null,
            "grid_auto_rows": null,
            "grid_column": null,
            "grid_gap": null,
            "grid_row": null,
            "grid_template_areas": null,
            "grid_template_columns": null,
            "grid_template_rows": null,
            "height": null,
            "justify_content": null,
            "justify_items": null,
            "left": null,
            "margin": null,
            "max_height": null,
            "max_width": null,
            "min_height": null,
            "min_width": null,
            "object_fit": null,
            "object_position": null,
            "order": null,
            "overflow": null,
            "overflow_x": null,
            "overflow_y": null,
            "padding": null,
            "right": null,
            "top": null,
            "visibility": null,
            "width": null
          }
        },
        "95b9ef4c42214c21a8f22af77e81aaa8": {
          "model_module": "@jupyter-widgets/controls",
          "model_name": "DescriptionStyleModel",
          "model_module_version": "1.5.0",
          "state": {
            "_model_module": "@jupyter-widgets/controls",
            "_model_module_version": "1.5.0",
            "_model_name": "DescriptionStyleModel",
            "_view_count": null,
            "_view_module": "@jupyter-widgets/base",
            "_view_module_version": "1.2.0",
            "_view_name": "StyleView",
            "description_width": ""
          }
        }
      }
    }
  },
  "cells": [
    {
      "cell_type": "markdown",
      "source": [
        "# TPOT para classificação de preços de celulares\n",
        "O objetivo desse projetio é utilizar uma biblioteca de AutoML (Auto Machine Learning) para criar um modelo de classificação para o preço de celulares. A biblioteca se chama TPOT e a sua função é automatizar todo processo de pipeline de machine learning e gerando um modelo com o melhor desempenho, por meio de algoritmos genéticos; ao invés de usar várias técnicas, vários parâmetros e realizar várias etapas dos processos, a biblioteca TPOT testa todos esses recursos, o que dá uma economia de tempo. Outra vantagem é que não é necessário escolher vários modelos (que nesse caso, são de classificação) de forma antecipada."
      ],
      "metadata": {
        "id": "SiU_-jlyM7D9"
      }
    },
    {
      "cell_type": "markdown",
      "source": [
        "# Dados\n",
        "Os dados usados nesse projeto podem ser obtidos [aqui](https://www.kaggle.com/datasets/iabhishekofficial/mobile-price-classification). São dados com características de celulares e são ao todo 20 features que são:\n",
        "\n",
        "battery_power: Energia total que uma bateria pode armazenar de uma só vez, medida em mAh;\n",
        "\n",
        "blue : Tem bluetooth ou não;\n",
        "\n",
        "clock_speed: velocidade na qual o microprocessador executa instruções;\n",
        "\n",
        "dual_sim: Tem suporte para dual sim ou não;\n",
        "\n",
        "fc: Mega pixels da câmera frontal;\n",
        "\n",
        "four_g: Tem 4G ou não;\n",
        "\n",
        "int_memory: Memória interna em Gigabytes;\n",
        "\n",
        "m_dep: Profundidade móvel em cm;\n",
        "\n",
        "mobile_wt: Peso do telefone móvel;\n",
        "\n",
        "n_cores: Número de núcleos do processador;\n",
        "\n",
        "pc: Mega pixels da câmera principal;\n",
        "\n",
        "px_height: Altura da resolução de pixels;\n",
        "\n",
        "px_width: Largura de resolução de pixel;\n",
        "\n",
        "ram: Memória de acesso aleatório em mega bytes;\n",
        "\n",
        "sc_h: Altura da tela do celular em cm;\n",
        "\n",
        "sc_w: Largura da tela do celular em cm;\n",
        "\n",
        "talk_time: tempo que uma única carga de bateria durará;\n",
        "\n",
        "three_g: Tem 3G ou não;\n",
        "\n",
        "touch_screen: Possui tela sensível ao toque ou não;\n",
        "\n",
        "wifi:Tem wifi ou não;\n",
        "\n",
        "---\n",
        "\n",
        "\n",
        "\n",
        "E o target (price_range, que é o preço) está definido da seguinte forma:\n",
        "\n",
        "a) 0 (baixo custo);\n",
        "\n",
        "b) 1 (custo médio);\n",
        "\n",
        "c) 2 (alto custo);\n",
        "\n",
        "d) 3 (custo muito alto).\n",
        "\n",
        "---\n",
        "\n",
        "\n",
        "\n",
        "Então a questão é saber se o celular está classificado em um desses tipos de preços.\n",
        "\n",
        "Etapas do projeto\n",
        "Análise exploratória dos dados;\n",
        "\n",
        "Tratamento dos dados;\n",
        "\n",
        "Aplicação de AutoML;\n",
        "\n",
        "Avaliação do modelo;\n",
        "\n",
        "Treinamento, avaliação e validação do modelo."
      ],
      "metadata": {
        "id": "ECfVnZxGM_mU"
      }
    },
    {
      "cell_type": "markdown",
      "source": [
        "# Instalando TPOP"
      ],
      "metadata": {
        "id": "7pejseBrN50c"
      }
    },
    {
      "cell_type": "code",
      "source": [
        "!pip install tpot"
      ],
      "metadata": {
        "id": "2RklumoYN7nw"
      },
      "execution_count": null,
      "outputs": []
    },
    {
      "cell_type": "markdown",
      "source": [
        "# Importando as bibliotecas"
      ],
      "metadata": {
        "id": "g-C2s23ONNDc"
      }
    },
    {
      "cell_type": "code",
      "execution_count": 4,
      "metadata": {
        "id": "zOJvn15OMNQ8"
      },
      "outputs": [],
      "source": [
        "import pandas as pd\n",
        "import numpy as np\n",
        "import matplotlib.pyplot as plt\n",
        "from scipy import stats\n",
        "import seaborn as sns\n",
        "%matplotlib inline\n",
        "\n",
        "from sklearn.model_selection import train_test_split\n",
        "from sklearn.preprocessing import StandardScaler\n",
        "from sklearn import svm\n",
        "from sklearn.model_selection import cross_val_predict\n",
        "from sklearn import metrics\n",
        "from tpot import TPOTClassifier\n",
        "from sklearn.decomposition import PCA"
      ]
    },
    {
      "cell_type": "markdown",
      "source": [
        "# Importando os dados"
      ],
      "metadata": {
        "id": "yA_8frJIOaED"
      }
    },
    {
      "cell_type": "code",
      "source": [
        "train=pd.read_csv(\"/content/drive/MyDrive/AutoML/Auto_pycaret/train.csv\")\n",
        "test=pd.read_csv(\"/content/drive/MyDrive/AutoML/Auto_pycaret/test.csv\")"
      ],
      "metadata": {
        "id": "NnxfF3U2ObsL"
      },
      "execution_count": 5,
      "outputs": []
    },
    {
      "cell_type": "code",
      "source": [
        "#Visualizando os dados dos datasets de treino e teste\n",
        "#OBS: o dataset de teste será usado para a validação do modelo, serão os dados que o modelo nunca viu\n",
        "display(train.head())\n",
        "display(test.head())"
      ],
      "metadata": {
        "colab": {
          "base_uri": "https://localhost:8080/",
          "height": 498
        },
        "id": "kT9FCpEYOvb0",
        "outputId": "f9db9c47-bcd8-4f74-82fc-d70bda7774ff"
      },
      "execution_count": 6,
      "outputs": [
        {
          "output_type": "display_data",
          "data": {
            "text/plain": [
              "   battery_power  blue  clock_speed  dual_sim  fc  four_g  int_memory  m_dep  \\\n",
              "0            842     0          2.2         0   1       0           7    0.6   \n",
              "1           1021     1          0.5         1   0       1          53    0.7   \n",
              "2            563     1          0.5         1   2       1          41    0.9   \n",
              "3            615     1          2.5         0   0       0          10    0.8   \n",
              "4           1821     1          1.2         0  13       1          44    0.6   \n",
              "\n",
              "   mobile_wt  n_cores  ...  px_height  px_width   ram  sc_h  sc_w  talk_time  \\\n",
              "0        188        2  ...         20       756  2549     9     7         19   \n",
              "1        136        3  ...        905      1988  2631    17     3          7   \n",
              "2        145        5  ...       1263      1716  2603    11     2          9   \n",
              "3        131        6  ...       1216      1786  2769    16     8         11   \n",
              "4        141        2  ...       1208      1212  1411     8     2         15   \n",
              "\n",
              "   three_g  touch_screen  wifi  price_range  \n",
              "0        0             0     1            1  \n",
              "1        1             1     0            2  \n",
              "2        1             1     0            2  \n",
              "3        1             0     0            2  \n",
              "4        1             1     0            1  \n",
              "\n",
              "[5 rows x 21 columns]"
            ],
            "text/html": [
              "\n",
              "  <div id=\"df-28398c02-0ddd-4608-9fec-167fa60980b3\">\n",
              "    <div class=\"colab-df-container\">\n",
              "      <div>\n",
              "<style scoped>\n",
              "    .dataframe tbody tr th:only-of-type {\n",
              "        vertical-align: middle;\n",
              "    }\n",
              "\n",
              "    .dataframe tbody tr th {\n",
              "        vertical-align: top;\n",
              "    }\n",
              "\n",
              "    .dataframe thead th {\n",
              "        text-align: right;\n",
              "    }\n",
              "</style>\n",
              "<table border=\"1\" class=\"dataframe\">\n",
              "  <thead>\n",
              "    <tr style=\"text-align: right;\">\n",
              "      <th></th>\n",
              "      <th>battery_power</th>\n",
              "      <th>blue</th>\n",
              "      <th>clock_speed</th>\n",
              "      <th>dual_sim</th>\n",
              "      <th>fc</th>\n",
              "      <th>four_g</th>\n",
              "      <th>int_memory</th>\n",
              "      <th>m_dep</th>\n",
              "      <th>mobile_wt</th>\n",
              "      <th>n_cores</th>\n",
              "      <th>...</th>\n",
              "      <th>px_height</th>\n",
              "      <th>px_width</th>\n",
              "      <th>ram</th>\n",
              "      <th>sc_h</th>\n",
              "      <th>sc_w</th>\n",
              "      <th>talk_time</th>\n",
              "      <th>three_g</th>\n",
              "      <th>touch_screen</th>\n",
              "      <th>wifi</th>\n",
              "      <th>price_range</th>\n",
              "    </tr>\n",
              "  </thead>\n",
              "  <tbody>\n",
              "    <tr>\n",
              "      <th>0</th>\n",
              "      <td>842</td>\n",
              "      <td>0</td>\n",
              "      <td>2.2</td>\n",
              "      <td>0</td>\n",
              "      <td>1</td>\n",
              "      <td>0</td>\n",
              "      <td>7</td>\n",
              "      <td>0.6</td>\n",
              "      <td>188</td>\n",
              "      <td>2</td>\n",
              "      <td>...</td>\n",
              "      <td>20</td>\n",
              "      <td>756</td>\n",
              "      <td>2549</td>\n",
              "      <td>9</td>\n",
              "      <td>7</td>\n",
              "      <td>19</td>\n",
              "      <td>0</td>\n",
              "      <td>0</td>\n",
              "      <td>1</td>\n",
              "      <td>1</td>\n",
              "    </tr>\n",
              "    <tr>\n",
              "      <th>1</th>\n",
              "      <td>1021</td>\n",
              "      <td>1</td>\n",
              "      <td>0.5</td>\n",
              "      <td>1</td>\n",
              "      <td>0</td>\n",
              "      <td>1</td>\n",
              "      <td>53</td>\n",
              "      <td>0.7</td>\n",
              "      <td>136</td>\n",
              "      <td>3</td>\n",
              "      <td>...</td>\n",
              "      <td>905</td>\n",
              "      <td>1988</td>\n",
              "      <td>2631</td>\n",
              "      <td>17</td>\n",
              "      <td>3</td>\n",
              "      <td>7</td>\n",
              "      <td>1</td>\n",
              "      <td>1</td>\n",
              "      <td>0</td>\n",
              "      <td>2</td>\n",
              "    </tr>\n",
              "    <tr>\n",
              "      <th>2</th>\n",
              "      <td>563</td>\n",
              "      <td>1</td>\n",
              "      <td>0.5</td>\n",
              "      <td>1</td>\n",
              "      <td>2</td>\n",
              "      <td>1</td>\n",
              "      <td>41</td>\n",
              "      <td>0.9</td>\n",
              "      <td>145</td>\n",
              "      <td>5</td>\n",
              "      <td>...</td>\n",
              "      <td>1263</td>\n",
              "      <td>1716</td>\n",
              "      <td>2603</td>\n",
              "      <td>11</td>\n",
              "      <td>2</td>\n",
              "      <td>9</td>\n",
              "      <td>1</td>\n",
              "      <td>1</td>\n",
              "      <td>0</td>\n",
              "      <td>2</td>\n",
              "    </tr>\n",
              "    <tr>\n",
              "      <th>3</th>\n",
              "      <td>615</td>\n",
              "      <td>1</td>\n",
              "      <td>2.5</td>\n",
              "      <td>0</td>\n",
              "      <td>0</td>\n",
              "      <td>0</td>\n",
              "      <td>10</td>\n",
              "      <td>0.8</td>\n",
              "      <td>131</td>\n",
              "      <td>6</td>\n",
              "      <td>...</td>\n",
              "      <td>1216</td>\n",
              "      <td>1786</td>\n",
              "      <td>2769</td>\n",
              "      <td>16</td>\n",
              "      <td>8</td>\n",
              "      <td>11</td>\n",
              "      <td>1</td>\n",
              "      <td>0</td>\n",
              "      <td>0</td>\n",
              "      <td>2</td>\n",
              "    </tr>\n",
              "    <tr>\n",
              "      <th>4</th>\n",
              "      <td>1821</td>\n",
              "      <td>1</td>\n",
              "      <td>1.2</td>\n",
              "      <td>0</td>\n",
              "      <td>13</td>\n",
              "      <td>1</td>\n",
              "      <td>44</td>\n",
              "      <td>0.6</td>\n",
              "      <td>141</td>\n",
              "      <td>2</td>\n",
              "      <td>...</td>\n",
              "      <td>1208</td>\n",
              "      <td>1212</td>\n",
              "      <td>1411</td>\n",
              "      <td>8</td>\n",
              "      <td>2</td>\n",
              "      <td>15</td>\n",
              "      <td>1</td>\n",
              "      <td>1</td>\n",
              "      <td>0</td>\n",
              "      <td>1</td>\n",
              "    </tr>\n",
              "  </tbody>\n",
              "</table>\n",
              "<p>5 rows × 21 columns</p>\n",
              "</div>\n",
              "      <button class=\"colab-df-convert\" onclick=\"convertToInteractive('df-28398c02-0ddd-4608-9fec-167fa60980b3')\"\n",
              "              title=\"Convert this dataframe to an interactive table.\"\n",
              "              style=\"display:none;\">\n",
              "        \n",
              "  <svg xmlns=\"http://www.w3.org/2000/svg\" height=\"24px\"viewBox=\"0 0 24 24\"\n",
              "       width=\"24px\">\n",
              "    <path d=\"M0 0h24v24H0V0z\" fill=\"none\"/>\n",
              "    <path d=\"M18.56 5.44l.94 2.06.94-2.06 2.06-.94-2.06-.94-.94-2.06-.94 2.06-2.06.94zm-11 1L8.5 8.5l.94-2.06 2.06-.94-2.06-.94L8.5 2.5l-.94 2.06-2.06.94zm10 10l.94 2.06.94-2.06 2.06-.94-2.06-.94-.94-2.06-.94 2.06-2.06.94z\"/><path d=\"M17.41 7.96l-1.37-1.37c-.4-.4-.92-.59-1.43-.59-.52 0-1.04.2-1.43.59L10.3 9.45l-7.72 7.72c-.78.78-.78 2.05 0 2.83L4 21.41c.39.39.9.59 1.41.59.51 0 1.02-.2 1.41-.59l7.78-7.78 2.81-2.81c.8-.78.8-2.07 0-2.86zM5.41 20L4 18.59l7.72-7.72 1.47 1.35L5.41 20z\"/>\n",
              "  </svg>\n",
              "      </button>\n",
              "      \n",
              "  <style>\n",
              "    .colab-df-container {\n",
              "      display:flex;\n",
              "      flex-wrap:wrap;\n",
              "      gap: 12px;\n",
              "    }\n",
              "\n",
              "    .colab-df-convert {\n",
              "      background-color: #E8F0FE;\n",
              "      border: none;\n",
              "      border-radius: 50%;\n",
              "      cursor: pointer;\n",
              "      display: none;\n",
              "      fill: #1967D2;\n",
              "      height: 32px;\n",
              "      padding: 0 0 0 0;\n",
              "      width: 32px;\n",
              "    }\n",
              "\n",
              "    .colab-df-convert:hover {\n",
              "      background-color: #E2EBFA;\n",
              "      box-shadow: 0px 1px 2px rgba(60, 64, 67, 0.3), 0px 1px 3px 1px rgba(60, 64, 67, 0.15);\n",
              "      fill: #174EA6;\n",
              "    }\n",
              "\n",
              "    [theme=dark] .colab-df-convert {\n",
              "      background-color: #3B4455;\n",
              "      fill: #D2E3FC;\n",
              "    }\n",
              "\n",
              "    [theme=dark] .colab-df-convert:hover {\n",
              "      background-color: #434B5C;\n",
              "      box-shadow: 0px 1px 3px 1px rgba(0, 0, 0, 0.15);\n",
              "      filter: drop-shadow(0px 1px 2px rgba(0, 0, 0, 0.3));\n",
              "      fill: #FFFFFF;\n",
              "    }\n",
              "  </style>\n",
              "\n",
              "      <script>\n",
              "        const buttonEl =\n",
              "          document.querySelector('#df-28398c02-0ddd-4608-9fec-167fa60980b3 button.colab-df-convert');\n",
              "        buttonEl.style.display =\n",
              "          google.colab.kernel.accessAllowed ? 'block' : 'none';\n",
              "\n",
              "        async function convertToInteractive(key) {\n",
              "          const element = document.querySelector('#df-28398c02-0ddd-4608-9fec-167fa60980b3');\n",
              "          const dataTable =\n",
              "            await google.colab.kernel.invokeFunction('convertToInteractive',\n",
              "                                                     [key], {});\n",
              "          if (!dataTable) return;\n",
              "\n",
              "          const docLinkHtml = 'Like what you see? Visit the ' +\n",
              "            '<a target=\"_blank\" href=https://colab.research.google.com/notebooks/data_table.ipynb>data table notebook</a>'\n",
              "            + ' to learn more about interactive tables.';\n",
              "          element.innerHTML = '';\n",
              "          dataTable['output_type'] = 'display_data';\n",
              "          await google.colab.output.renderOutput(dataTable, element);\n",
              "          const docLink = document.createElement('div');\n",
              "          docLink.innerHTML = docLinkHtml;\n",
              "          element.appendChild(docLink);\n",
              "        }\n",
              "      </script>\n",
              "    </div>\n",
              "  </div>\n",
              "  "
            ]
          },
          "metadata": {}
        },
        {
          "output_type": "display_data",
          "data": {
            "text/plain": [
              "   id  battery_power  blue  clock_speed  dual_sim  fc  four_g  int_memory  \\\n",
              "0   1           1043     1          1.8         1  14       0           5   \n",
              "1   2            841     1          0.5         1   4       1          61   \n",
              "2   3           1807     1          2.8         0   1       0          27   \n",
              "3   4           1546     0          0.5         1  18       1          25   \n",
              "4   5           1434     0          1.4         0  11       1          49   \n",
              "\n",
              "   m_dep  mobile_wt  ...  pc  px_height  px_width   ram  sc_h  sc_w  \\\n",
              "0    0.1        193  ...  16        226      1412  3476    12     7   \n",
              "1    0.8        191  ...  12        746       857  3895     6     0   \n",
              "2    0.9        186  ...   4       1270      1366  2396    17    10   \n",
              "3    0.5         96  ...  20        295      1752  3893    10     0   \n",
              "4    0.5        108  ...  18        749       810  1773    15     8   \n",
              "\n",
              "   talk_time  three_g  touch_screen  wifi  \n",
              "0          2        0             1     0  \n",
              "1          7        1             0     0  \n",
              "2         10        0             1     1  \n",
              "3          7        1             1     0  \n",
              "4          7        1             0     1  \n",
              "\n",
              "[5 rows x 21 columns]"
            ],
            "text/html": [
              "\n",
              "  <div id=\"df-d0831132-f7f2-49ed-a6df-298182d8baca\">\n",
              "    <div class=\"colab-df-container\">\n",
              "      <div>\n",
              "<style scoped>\n",
              "    .dataframe tbody tr th:only-of-type {\n",
              "        vertical-align: middle;\n",
              "    }\n",
              "\n",
              "    .dataframe tbody tr th {\n",
              "        vertical-align: top;\n",
              "    }\n",
              "\n",
              "    .dataframe thead th {\n",
              "        text-align: right;\n",
              "    }\n",
              "</style>\n",
              "<table border=\"1\" class=\"dataframe\">\n",
              "  <thead>\n",
              "    <tr style=\"text-align: right;\">\n",
              "      <th></th>\n",
              "      <th>id</th>\n",
              "      <th>battery_power</th>\n",
              "      <th>blue</th>\n",
              "      <th>clock_speed</th>\n",
              "      <th>dual_sim</th>\n",
              "      <th>fc</th>\n",
              "      <th>four_g</th>\n",
              "      <th>int_memory</th>\n",
              "      <th>m_dep</th>\n",
              "      <th>mobile_wt</th>\n",
              "      <th>...</th>\n",
              "      <th>pc</th>\n",
              "      <th>px_height</th>\n",
              "      <th>px_width</th>\n",
              "      <th>ram</th>\n",
              "      <th>sc_h</th>\n",
              "      <th>sc_w</th>\n",
              "      <th>talk_time</th>\n",
              "      <th>three_g</th>\n",
              "      <th>touch_screen</th>\n",
              "      <th>wifi</th>\n",
              "    </tr>\n",
              "  </thead>\n",
              "  <tbody>\n",
              "    <tr>\n",
              "      <th>0</th>\n",
              "      <td>1</td>\n",
              "      <td>1043</td>\n",
              "      <td>1</td>\n",
              "      <td>1.8</td>\n",
              "      <td>1</td>\n",
              "      <td>14</td>\n",
              "      <td>0</td>\n",
              "      <td>5</td>\n",
              "      <td>0.1</td>\n",
              "      <td>193</td>\n",
              "      <td>...</td>\n",
              "      <td>16</td>\n",
              "      <td>226</td>\n",
              "      <td>1412</td>\n",
              "      <td>3476</td>\n",
              "      <td>12</td>\n",
              "      <td>7</td>\n",
              "      <td>2</td>\n",
              "      <td>0</td>\n",
              "      <td>1</td>\n",
              "      <td>0</td>\n",
              "    </tr>\n",
              "    <tr>\n",
              "      <th>1</th>\n",
              "      <td>2</td>\n",
              "      <td>841</td>\n",
              "      <td>1</td>\n",
              "      <td>0.5</td>\n",
              "      <td>1</td>\n",
              "      <td>4</td>\n",
              "      <td>1</td>\n",
              "      <td>61</td>\n",
              "      <td>0.8</td>\n",
              "      <td>191</td>\n",
              "      <td>...</td>\n",
              "      <td>12</td>\n",
              "      <td>746</td>\n",
              "      <td>857</td>\n",
              "      <td>3895</td>\n",
              "      <td>6</td>\n",
              "      <td>0</td>\n",
              "      <td>7</td>\n",
              "      <td>1</td>\n",
              "      <td>0</td>\n",
              "      <td>0</td>\n",
              "    </tr>\n",
              "    <tr>\n",
              "      <th>2</th>\n",
              "      <td>3</td>\n",
              "      <td>1807</td>\n",
              "      <td>1</td>\n",
              "      <td>2.8</td>\n",
              "      <td>0</td>\n",
              "      <td>1</td>\n",
              "      <td>0</td>\n",
              "      <td>27</td>\n",
              "      <td>0.9</td>\n",
              "      <td>186</td>\n",
              "      <td>...</td>\n",
              "      <td>4</td>\n",
              "      <td>1270</td>\n",
              "      <td>1366</td>\n",
              "      <td>2396</td>\n",
              "      <td>17</td>\n",
              "      <td>10</td>\n",
              "      <td>10</td>\n",
              "      <td>0</td>\n",
              "      <td>1</td>\n",
              "      <td>1</td>\n",
              "    </tr>\n",
              "    <tr>\n",
              "      <th>3</th>\n",
              "      <td>4</td>\n",
              "      <td>1546</td>\n",
              "      <td>0</td>\n",
              "      <td>0.5</td>\n",
              "      <td>1</td>\n",
              "      <td>18</td>\n",
              "      <td>1</td>\n",
              "      <td>25</td>\n",
              "      <td>0.5</td>\n",
              "      <td>96</td>\n",
              "      <td>...</td>\n",
              "      <td>20</td>\n",
              "      <td>295</td>\n",
              "      <td>1752</td>\n",
              "      <td>3893</td>\n",
              "      <td>10</td>\n",
              "      <td>0</td>\n",
              "      <td>7</td>\n",
              "      <td>1</td>\n",
              "      <td>1</td>\n",
              "      <td>0</td>\n",
              "    </tr>\n",
              "    <tr>\n",
              "      <th>4</th>\n",
              "      <td>5</td>\n",
              "      <td>1434</td>\n",
              "      <td>0</td>\n",
              "      <td>1.4</td>\n",
              "      <td>0</td>\n",
              "      <td>11</td>\n",
              "      <td>1</td>\n",
              "      <td>49</td>\n",
              "      <td>0.5</td>\n",
              "      <td>108</td>\n",
              "      <td>...</td>\n",
              "      <td>18</td>\n",
              "      <td>749</td>\n",
              "      <td>810</td>\n",
              "      <td>1773</td>\n",
              "      <td>15</td>\n",
              "      <td>8</td>\n",
              "      <td>7</td>\n",
              "      <td>1</td>\n",
              "      <td>0</td>\n",
              "      <td>1</td>\n",
              "    </tr>\n",
              "  </tbody>\n",
              "</table>\n",
              "<p>5 rows × 21 columns</p>\n",
              "</div>\n",
              "      <button class=\"colab-df-convert\" onclick=\"convertToInteractive('df-d0831132-f7f2-49ed-a6df-298182d8baca')\"\n",
              "              title=\"Convert this dataframe to an interactive table.\"\n",
              "              style=\"display:none;\">\n",
              "        \n",
              "  <svg xmlns=\"http://www.w3.org/2000/svg\" height=\"24px\"viewBox=\"0 0 24 24\"\n",
              "       width=\"24px\">\n",
              "    <path d=\"M0 0h24v24H0V0z\" fill=\"none\"/>\n",
              "    <path d=\"M18.56 5.44l.94 2.06.94-2.06 2.06-.94-2.06-.94-.94-2.06-.94 2.06-2.06.94zm-11 1L8.5 8.5l.94-2.06 2.06-.94-2.06-.94L8.5 2.5l-.94 2.06-2.06.94zm10 10l.94 2.06.94-2.06 2.06-.94-2.06-.94-.94-2.06-.94 2.06-2.06.94z\"/><path d=\"M17.41 7.96l-1.37-1.37c-.4-.4-.92-.59-1.43-.59-.52 0-1.04.2-1.43.59L10.3 9.45l-7.72 7.72c-.78.78-.78 2.05 0 2.83L4 21.41c.39.39.9.59 1.41.59.51 0 1.02-.2 1.41-.59l7.78-7.78 2.81-2.81c.8-.78.8-2.07 0-2.86zM5.41 20L4 18.59l7.72-7.72 1.47 1.35L5.41 20z\"/>\n",
              "  </svg>\n",
              "      </button>\n",
              "      \n",
              "  <style>\n",
              "    .colab-df-container {\n",
              "      display:flex;\n",
              "      flex-wrap:wrap;\n",
              "      gap: 12px;\n",
              "    }\n",
              "\n",
              "    .colab-df-convert {\n",
              "      background-color: #E8F0FE;\n",
              "      border: none;\n",
              "      border-radius: 50%;\n",
              "      cursor: pointer;\n",
              "      display: none;\n",
              "      fill: #1967D2;\n",
              "      height: 32px;\n",
              "      padding: 0 0 0 0;\n",
              "      width: 32px;\n",
              "    }\n",
              "\n",
              "    .colab-df-convert:hover {\n",
              "      background-color: #E2EBFA;\n",
              "      box-shadow: 0px 1px 2px rgba(60, 64, 67, 0.3), 0px 1px 3px 1px rgba(60, 64, 67, 0.15);\n",
              "      fill: #174EA6;\n",
              "    }\n",
              "\n",
              "    [theme=dark] .colab-df-convert {\n",
              "      background-color: #3B4455;\n",
              "      fill: #D2E3FC;\n",
              "    }\n",
              "\n",
              "    [theme=dark] .colab-df-convert:hover {\n",
              "      background-color: #434B5C;\n",
              "      box-shadow: 0px 1px 3px 1px rgba(0, 0, 0, 0.15);\n",
              "      filter: drop-shadow(0px 1px 2px rgba(0, 0, 0, 0.3));\n",
              "      fill: #FFFFFF;\n",
              "    }\n",
              "  </style>\n",
              "\n",
              "      <script>\n",
              "        const buttonEl =\n",
              "          document.querySelector('#df-d0831132-f7f2-49ed-a6df-298182d8baca button.colab-df-convert');\n",
              "        buttonEl.style.display =\n",
              "          google.colab.kernel.accessAllowed ? 'block' : 'none';\n",
              "\n",
              "        async function convertToInteractive(key) {\n",
              "          const element = document.querySelector('#df-d0831132-f7f2-49ed-a6df-298182d8baca');\n",
              "          const dataTable =\n",
              "            await google.colab.kernel.invokeFunction('convertToInteractive',\n",
              "                                                     [key], {});\n",
              "          if (!dataTable) return;\n",
              "\n",
              "          const docLinkHtml = 'Like what you see? Visit the ' +\n",
              "            '<a target=\"_blank\" href=https://colab.research.google.com/notebooks/data_table.ipynb>data table notebook</a>'\n",
              "            + ' to learn more about interactive tables.';\n",
              "          element.innerHTML = '';\n",
              "          dataTable['output_type'] = 'display_data';\n",
              "          await google.colab.output.renderOutput(dataTable, element);\n",
              "          const docLink = document.createElement('div');\n",
              "          docLink.innerHTML = docLinkHtml;\n",
              "          element.appendChild(docLink);\n",
              "        }\n",
              "      </script>\n",
              "    </div>\n",
              "  </div>\n",
              "  "
            ]
          },
          "metadata": {}
        }
      ]
    },
    {
      "cell_type": "code",
      "source": [
        "#Tabela com as estatísticas descritivas de cada dataset\n",
        "display(train.describe())\n",
        "display(test.describe())"
      ],
      "metadata": {
        "colab": {
          "base_uri": "https://localhost:8080/",
          "height": 706
        },
        "id": "dCVqCrIGPGkd",
        "outputId": "9f23e1df-e75e-4a35-c7b6-05b7e4b63c1c"
      },
      "execution_count": 7,
      "outputs": [
        {
          "output_type": "display_data",
          "data": {
            "text/plain": [
              "       battery_power       blue  clock_speed     dual_sim           fc  \\\n",
              "count    2000.000000  2000.0000  2000.000000  2000.000000  2000.000000   \n",
              "mean     1238.518500     0.4950     1.522250     0.509500     4.309500   \n",
              "std       439.418206     0.5001     0.816004     0.500035     4.341444   \n",
              "min       501.000000     0.0000     0.500000     0.000000     0.000000   \n",
              "25%       851.750000     0.0000     0.700000     0.000000     1.000000   \n",
              "50%      1226.000000     0.0000     1.500000     1.000000     3.000000   \n",
              "75%      1615.250000     1.0000     2.200000     1.000000     7.000000   \n",
              "max      1998.000000     1.0000     3.000000     1.000000    19.000000   \n",
              "\n",
              "            four_g   int_memory        m_dep    mobile_wt      n_cores  ...  \\\n",
              "count  2000.000000  2000.000000  2000.000000  2000.000000  2000.000000  ...   \n",
              "mean      0.521500    32.046500     0.501750   140.249000     4.520500  ...   \n",
              "std       0.499662    18.145715     0.288416    35.399655     2.287837  ...   \n",
              "min       0.000000     2.000000     0.100000    80.000000     1.000000  ...   \n",
              "25%       0.000000    16.000000     0.200000   109.000000     3.000000  ...   \n",
              "50%       1.000000    32.000000     0.500000   141.000000     4.000000  ...   \n",
              "75%       1.000000    48.000000     0.800000   170.000000     7.000000  ...   \n",
              "max       1.000000    64.000000     1.000000   200.000000     8.000000  ...   \n",
              "\n",
              "         px_height     px_width          ram         sc_h         sc_w  \\\n",
              "count  2000.000000  2000.000000  2000.000000  2000.000000  2000.000000   \n",
              "mean    645.108000  1251.515500  2124.213000    12.306500     5.767000   \n",
              "std     443.780811   432.199447  1084.732044     4.213245     4.356398   \n",
              "min       0.000000   500.000000   256.000000     5.000000     0.000000   \n",
              "25%     282.750000   874.750000  1207.500000     9.000000     2.000000   \n",
              "50%     564.000000  1247.000000  2146.500000    12.000000     5.000000   \n",
              "75%     947.250000  1633.000000  3064.500000    16.000000     9.000000   \n",
              "max    1960.000000  1998.000000  3998.000000    19.000000    18.000000   \n",
              "\n",
              "         talk_time      three_g  touch_screen         wifi  price_range  \n",
              "count  2000.000000  2000.000000   2000.000000  2000.000000  2000.000000  \n",
              "mean     11.011000     0.761500      0.503000     0.507000     1.500000  \n",
              "std       5.463955     0.426273      0.500116     0.500076     1.118314  \n",
              "min       2.000000     0.000000      0.000000     0.000000     0.000000  \n",
              "25%       6.000000     1.000000      0.000000     0.000000     0.750000  \n",
              "50%      11.000000     1.000000      1.000000     1.000000     1.500000  \n",
              "75%      16.000000     1.000000      1.000000     1.000000     2.250000  \n",
              "max      20.000000     1.000000      1.000000     1.000000     3.000000  \n",
              "\n",
              "[8 rows x 21 columns]"
            ],
            "text/html": [
              "\n",
              "  <div id=\"df-23dce252-67df-4962-a512-d30720d6eaf3\">\n",
              "    <div class=\"colab-df-container\">\n",
              "      <div>\n",
              "<style scoped>\n",
              "    .dataframe tbody tr th:only-of-type {\n",
              "        vertical-align: middle;\n",
              "    }\n",
              "\n",
              "    .dataframe tbody tr th {\n",
              "        vertical-align: top;\n",
              "    }\n",
              "\n",
              "    .dataframe thead th {\n",
              "        text-align: right;\n",
              "    }\n",
              "</style>\n",
              "<table border=\"1\" class=\"dataframe\">\n",
              "  <thead>\n",
              "    <tr style=\"text-align: right;\">\n",
              "      <th></th>\n",
              "      <th>battery_power</th>\n",
              "      <th>blue</th>\n",
              "      <th>clock_speed</th>\n",
              "      <th>dual_sim</th>\n",
              "      <th>fc</th>\n",
              "      <th>four_g</th>\n",
              "      <th>int_memory</th>\n",
              "      <th>m_dep</th>\n",
              "      <th>mobile_wt</th>\n",
              "      <th>n_cores</th>\n",
              "      <th>...</th>\n",
              "      <th>px_height</th>\n",
              "      <th>px_width</th>\n",
              "      <th>ram</th>\n",
              "      <th>sc_h</th>\n",
              "      <th>sc_w</th>\n",
              "      <th>talk_time</th>\n",
              "      <th>three_g</th>\n",
              "      <th>touch_screen</th>\n",
              "      <th>wifi</th>\n",
              "      <th>price_range</th>\n",
              "    </tr>\n",
              "  </thead>\n",
              "  <tbody>\n",
              "    <tr>\n",
              "      <th>count</th>\n",
              "      <td>2000.000000</td>\n",
              "      <td>2000.0000</td>\n",
              "      <td>2000.000000</td>\n",
              "      <td>2000.000000</td>\n",
              "      <td>2000.000000</td>\n",
              "      <td>2000.000000</td>\n",
              "      <td>2000.000000</td>\n",
              "      <td>2000.000000</td>\n",
              "      <td>2000.000000</td>\n",
              "      <td>2000.000000</td>\n",
              "      <td>...</td>\n",
              "      <td>2000.000000</td>\n",
              "      <td>2000.000000</td>\n",
              "      <td>2000.000000</td>\n",
              "      <td>2000.000000</td>\n",
              "      <td>2000.000000</td>\n",
              "      <td>2000.000000</td>\n",
              "      <td>2000.000000</td>\n",
              "      <td>2000.000000</td>\n",
              "      <td>2000.000000</td>\n",
              "      <td>2000.000000</td>\n",
              "    </tr>\n",
              "    <tr>\n",
              "      <th>mean</th>\n",
              "      <td>1238.518500</td>\n",
              "      <td>0.4950</td>\n",
              "      <td>1.522250</td>\n",
              "      <td>0.509500</td>\n",
              "      <td>4.309500</td>\n",
              "      <td>0.521500</td>\n",
              "      <td>32.046500</td>\n",
              "      <td>0.501750</td>\n",
              "      <td>140.249000</td>\n",
              "      <td>4.520500</td>\n",
              "      <td>...</td>\n",
              "      <td>645.108000</td>\n",
              "      <td>1251.515500</td>\n",
              "      <td>2124.213000</td>\n",
              "      <td>12.306500</td>\n",
              "      <td>5.767000</td>\n",
              "      <td>11.011000</td>\n",
              "      <td>0.761500</td>\n",
              "      <td>0.503000</td>\n",
              "      <td>0.507000</td>\n",
              "      <td>1.500000</td>\n",
              "    </tr>\n",
              "    <tr>\n",
              "      <th>std</th>\n",
              "      <td>439.418206</td>\n",
              "      <td>0.5001</td>\n",
              "      <td>0.816004</td>\n",
              "      <td>0.500035</td>\n",
              "      <td>4.341444</td>\n",
              "      <td>0.499662</td>\n",
              "      <td>18.145715</td>\n",
              "      <td>0.288416</td>\n",
              "      <td>35.399655</td>\n",
              "      <td>2.287837</td>\n",
              "      <td>...</td>\n",
              "      <td>443.780811</td>\n",
              "      <td>432.199447</td>\n",
              "      <td>1084.732044</td>\n",
              "      <td>4.213245</td>\n",
              "      <td>4.356398</td>\n",
              "      <td>5.463955</td>\n",
              "      <td>0.426273</td>\n",
              "      <td>0.500116</td>\n",
              "      <td>0.500076</td>\n",
              "      <td>1.118314</td>\n",
              "    </tr>\n",
              "    <tr>\n",
              "      <th>min</th>\n",
              "      <td>501.000000</td>\n",
              "      <td>0.0000</td>\n",
              "      <td>0.500000</td>\n",
              "      <td>0.000000</td>\n",
              "      <td>0.000000</td>\n",
              "      <td>0.000000</td>\n",
              "      <td>2.000000</td>\n",
              "      <td>0.100000</td>\n",
              "      <td>80.000000</td>\n",
              "      <td>1.000000</td>\n",
              "      <td>...</td>\n",
              "      <td>0.000000</td>\n",
              "      <td>500.000000</td>\n",
              "      <td>256.000000</td>\n",
              "      <td>5.000000</td>\n",
              "      <td>0.000000</td>\n",
              "      <td>2.000000</td>\n",
              "      <td>0.000000</td>\n",
              "      <td>0.000000</td>\n",
              "      <td>0.000000</td>\n",
              "      <td>0.000000</td>\n",
              "    </tr>\n",
              "    <tr>\n",
              "      <th>25%</th>\n",
              "      <td>851.750000</td>\n",
              "      <td>0.0000</td>\n",
              "      <td>0.700000</td>\n",
              "      <td>0.000000</td>\n",
              "      <td>1.000000</td>\n",
              "      <td>0.000000</td>\n",
              "      <td>16.000000</td>\n",
              "      <td>0.200000</td>\n",
              "      <td>109.000000</td>\n",
              "      <td>3.000000</td>\n",
              "      <td>...</td>\n",
              "      <td>282.750000</td>\n",
              "      <td>874.750000</td>\n",
              "      <td>1207.500000</td>\n",
              "      <td>9.000000</td>\n",
              "      <td>2.000000</td>\n",
              "      <td>6.000000</td>\n",
              "      <td>1.000000</td>\n",
              "      <td>0.000000</td>\n",
              "      <td>0.000000</td>\n",
              "      <td>0.750000</td>\n",
              "    </tr>\n",
              "    <tr>\n",
              "      <th>50%</th>\n",
              "      <td>1226.000000</td>\n",
              "      <td>0.0000</td>\n",
              "      <td>1.500000</td>\n",
              "      <td>1.000000</td>\n",
              "      <td>3.000000</td>\n",
              "      <td>1.000000</td>\n",
              "      <td>32.000000</td>\n",
              "      <td>0.500000</td>\n",
              "      <td>141.000000</td>\n",
              "      <td>4.000000</td>\n",
              "      <td>...</td>\n",
              "      <td>564.000000</td>\n",
              "      <td>1247.000000</td>\n",
              "      <td>2146.500000</td>\n",
              "      <td>12.000000</td>\n",
              "      <td>5.000000</td>\n",
              "      <td>11.000000</td>\n",
              "      <td>1.000000</td>\n",
              "      <td>1.000000</td>\n",
              "      <td>1.000000</td>\n",
              "      <td>1.500000</td>\n",
              "    </tr>\n",
              "    <tr>\n",
              "      <th>75%</th>\n",
              "      <td>1615.250000</td>\n",
              "      <td>1.0000</td>\n",
              "      <td>2.200000</td>\n",
              "      <td>1.000000</td>\n",
              "      <td>7.000000</td>\n",
              "      <td>1.000000</td>\n",
              "      <td>48.000000</td>\n",
              "      <td>0.800000</td>\n",
              "      <td>170.000000</td>\n",
              "      <td>7.000000</td>\n",
              "      <td>...</td>\n",
              "      <td>947.250000</td>\n",
              "      <td>1633.000000</td>\n",
              "      <td>3064.500000</td>\n",
              "      <td>16.000000</td>\n",
              "      <td>9.000000</td>\n",
              "      <td>16.000000</td>\n",
              "      <td>1.000000</td>\n",
              "      <td>1.000000</td>\n",
              "      <td>1.000000</td>\n",
              "      <td>2.250000</td>\n",
              "    </tr>\n",
              "    <tr>\n",
              "      <th>max</th>\n",
              "      <td>1998.000000</td>\n",
              "      <td>1.0000</td>\n",
              "      <td>3.000000</td>\n",
              "      <td>1.000000</td>\n",
              "      <td>19.000000</td>\n",
              "      <td>1.000000</td>\n",
              "      <td>64.000000</td>\n",
              "      <td>1.000000</td>\n",
              "      <td>200.000000</td>\n",
              "      <td>8.000000</td>\n",
              "      <td>...</td>\n",
              "      <td>1960.000000</td>\n",
              "      <td>1998.000000</td>\n",
              "      <td>3998.000000</td>\n",
              "      <td>19.000000</td>\n",
              "      <td>18.000000</td>\n",
              "      <td>20.000000</td>\n",
              "      <td>1.000000</td>\n",
              "      <td>1.000000</td>\n",
              "      <td>1.000000</td>\n",
              "      <td>3.000000</td>\n",
              "    </tr>\n",
              "  </tbody>\n",
              "</table>\n",
              "<p>8 rows × 21 columns</p>\n",
              "</div>\n",
              "      <button class=\"colab-df-convert\" onclick=\"convertToInteractive('df-23dce252-67df-4962-a512-d30720d6eaf3')\"\n",
              "              title=\"Convert this dataframe to an interactive table.\"\n",
              "              style=\"display:none;\">\n",
              "        \n",
              "  <svg xmlns=\"http://www.w3.org/2000/svg\" height=\"24px\"viewBox=\"0 0 24 24\"\n",
              "       width=\"24px\">\n",
              "    <path d=\"M0 0h24v24H0V0z\" fill=\"none\"/>\n",
              "    <path d=\"M18.56 5.44l.94 2.06.94-2.06 2.06-.94-2.06-.94-.94-2.06-.94 2.06-2.06.94zm-11 1L8.5 8.5l.94-2.06 2.06-.94-2.06-.94L8.5 2.5l-.94 2.06-2.06.94zm10 10l.94 2.06.94-2.06 2.06-.94-2.06-.94-.94-2.06-.94 2.06-2.06.94z\"/><path d=\"M17.41 7.96l-1.37-1.37c-.4-.4-.92-.59-1.43-.59-.52 0-1.04.2-1.43.59L10.3 9.45l-7.72 7.72c-.78.78-.78 2.05 0 2.83L4 21.41c.39.39.9.59 1.41.59.51 0 1.02-.2 1.41-.59l7.78-7.78 2.81-2.81c.8-.78.8-2.07 0-2.86zM5.41 20L4 18.59l7.72-7.72 1.47 1.35L5.41 20z\"/>\n",
              "  </svg>\n",
              "      </button>\n",
              "      \n",
              "  <style>\n",
              "    .colab-df-container {\n",
              "      display:flex;\n",
              "      flex-wrap:wrap;\n",
              "      gap: 12px;\n",
              "    }\n",
              "\n",
              "    .colab-df-convert {\n",
              "      background-color: #E8F0FE;\n",
              "      border: none;\n",
              "      border-radius: 50%;\n",
              "      cursor: pointer;\n",
              "      display: none;\n",
              "      fill: #1967D2;\n",
              "      height: 32px;\n",
              "      padding: 0 0 0 0;\n",
              "      width: 32px;\n",
              "    }\n",
              "\n",
              "    .colab-df-convert:hover {\n",
              "      background-color: #E2EBFA;\n",
              "      box-shadow: 0px 1px 2px rgba(60, 64, 67, 0.3), 0px 1px 3px 1px rgba(60, 64, 67, 0.15);\n",
              "      fill: #174EA6;\n",
              "    }\n",
              "\n",
              "    [theme=dark] .colab-df-convert {\n",
              "      background-color: #3B4455;\n",
              "      fill: #D2E3FC;\n",
              "    }\n",
              "\n",
              "    [theme=dark] .colab-df-convert:hover {\n",
              "      background-color: #434B5C;\n",
              "      box-shadow: 0px 1px 3px 1px rgba(0, 0, 0, 0.15);\n",
              "      filter: drop-shadow(0px 1px 2px rgba(0, 0, 0, 0.3));\n",
              "      fill: #FFFFFF;\n",
              "    }\n",
              "  </style>\n",
              "\n",
              "      <script>\n",
              "        const buttonEl =\n",
              "          document.querySelector('#df-23dce252-67df-4962-a512-d30720d6eaf3 button.colab-df-convert');\n",
              "        buttonEl.style.display =\n",
              "          google.colab.kernel.accessAllowed ? 'block' : 'none';\n",
              "\n",
              "        async function convertToInteractive(key) {\n",
              "          const element = document.querySelector('#df-23dce252-67df-4962-a512-d30720d6eaf3');\n",
              "          const dataTable =\n",
              "            await google.colab.kernel.invokeFunction('convertToInteractive',\n",
              "                                                     [key], {});\n",
              "          if (!dataTable) return;\n",
              "\n",
              "          const docLinkHtml = 'Like what you see? Visit the ' +\n",
              "            '<a target=\"_blank\" href=https://colab.research.google.com/notebooks/data_table.ipynb>data table notebook</a>'\n",
              "            + ' to learn more about interactive tables.';\n",
              "          element.innerHTML = '';\n",
              "          dataTable['output_type'] = 'display_data';\n",
              "          await google.colab.output.renderOutput(dataTable, element);\n",
              "          const docLink = document.createElement('div');\n",
              "          docLink.innerHTML = docLinkHtml;\n",
              "          element.appendChild(docLink);\n",
              "        }\n",
              "      </script>\n",
              "    </div>\n",
              "  </div>\n",
              "  "
            ]
          },
          "metadata": {}
        },
        {
          "output_type": "display_data",
          "data": {
            "text/plain": [
              "                id  battery_power         blue  clock_speed     dual_sim  \\\n",
              "count  1000.000000    1000.000000  1000.000000  1000.000000  1000.000000   \n",
              "mean    500.500000    1248.510000     0.516000     1.540900     0.517000   \n",
              "std     288.819436     432.458227     0.499994     0.829268     0.499961   \n",
              "min       1.000000     500.000000     0.000000     0.500000     0.000000   \n",
              "25%     250.750000     895.000000     0.000000     0.700000     0.000000   \n",
              "50%     500.500000    1246.500000     1.000000     1.500000     1.000000   \n",
              "75%     750.250000    1629.250000     1.000000     2.300000     1.000000   \n",
              "max    1000.000000    1999.000000     1.000000     3.000000     1.000000   \n",
              "\n",
              "                fc       four_g   int_memory        m_dep   mobile_wt  ...  \\\n",
              "count  1000.000000  1000.000000  1000.000000  1000.000000  1000.00000  ...   \n",
              "mean      4.593000     0.487000    33.652000     0.517500   139.51100  ...   \n",
              "std       4.463325     0.500081    18.128694     0.280861    34.85155  ...   \n",
              "min       0.000000     0.000000     2.000000     0.100000    80.00000  ...   \n",
              "25%       1.000000     0.000000    18.000000     0.300000   109.75000  ...   \n",
              "50%       3.000000     0.000000    34.500000     0.500000   139.00000  ...   \n",
              "75%       7.000000     1.000000    49.000000     0.800000   170.00000  ...   \n",
              "max      19.000000     1.000000    64.000000     1.000000   200.00000  ...   \n",
              "\n",
              "                pc    px_height     px_width          ram         sc_h  \\\n",
              "count  1000.000000  1000.000000  1000.000000  1000.000000  1000.000000   \n",
              "mean     10.054000   627.121000  1239.774000  2138.998000    11.995000   \n",
              "std       6.095099   432.929699   439.670981  1088.092278     4.320607   \n",
              "min       0.000000     0.000000   501.000000   263.000000     5.000000   \n",
              "25%       5.000000   263.750000   831.750000  1237.250000     8.000000   \n",
              "50%      10.000000   564.500000  1250.000000  2153.500000    12.000000   \n",
              "75%      16.000000   903.000000  1637.750000  3065.500000    16.000000   \n",
              "max      20.000000  1907.000000  1998.000000  3989.000000    19.000000   \n",
              "\n",
              "              sc_w    talk_time      three_g  touch_screen         wifi  \n",
              "count  1000.000000  1000.000000  1000.000000    1000.00000  1000.000000  \n",
              "mean      5.316000    11.085000     0.756000       0.50000     0.507000  \n",
              "std       4.240062     5.497636     0.429708       0.50025     0.500201  \n",
              "min       0.000000     2.000000     0.000000       0.00000     0.000000  \n",
              "25%       2.000000     6.750000     1.000000       0.00000     0.000000  \n",
              "50%       5.000000    11.000000     1.000000       0.50000     1.000000  \n",
              "75%       8.000000    16.000000     1.000000       1.00000     1.000000  \n",
              "max      18.000000    20.000000     1.000000       1.00000     1.000000  \n",
              "\n",
              "[8 rows x 21 columns]"
            ],
            "text/html": [
              "\n",
              "  <div id=\"df-b0da4cfd-279b-42f4-ab6e-50c59ef440dd\">\n",
              "    <div class=\"colab-df-container\">\n",
              "      <div>\n",
              "<style scoped>\n",
              "    .dataframe tbody tr th:only-of-type {\n",
              "        vertical-align: middle;\n",
              "    }\n",
              "\n",
              "    .dataframe tbody tr th {\n",
              "        vertical-align: top;\n",
              "    }\n",
              "\n",
              "    .dataframe thead th {\n",
              "        text-align: right;\n",
              "    }\n",
              "</style>\n",
              "<table border=\"1\" class=\"dataframe\">\n",
              "  <thead>\n",
              "    <tr style=\"text-align: right;\">\n",
              "      <th></th>\n",
              "      <th>id</th>\n",
              "      <th>battery_power</th>\n",
              "      <th>blue</th>\n",
              "      <th>clock_speed</th>\n",
              "      <th>dual_sim</th>\n",
              "      <th>fc</th>\n",
              "      <th>four_g</th>\n",
              "      <th>int_memory</th>\n",
              "      <th>m_dep</th>\n",
              "      <th>mobile_wt</th>\n",
              "      <th>...</th>\n",
              "      <th>pc</th>\n",
              "      <th>px_height</th>\n",
              "      <th>px_width</th>\n",
              "      <th>ram</th>\n",
              "      <th>sc_h</th>\n",
              "      <th>sc_w</th>\n",
              "      <th>talk_time</th>\n",
              "      <th>three_g</th>\n",
              "      <th>touch_screen</th>\n",
              "      <th>wifi</th>\n",
              "    </tr>\n",
              "  </thead>\n",
              "  <tbody>\n",
              "    <tr>\n",
              "      <th>count</th>\n",
              "      <td>1000.000000</td>\n",
              "      <td>1000.000000</td>\n",
              "      <td>1000.000000</td>\n",
              "      <td>1000.000000</td>\n",
              "      <td>1000.000000</td>\n",
              "      <td>1000.000000</td>\n",
              "      <td>1000.000000</td>\n",
              "      <td>1000.000000</td>\n",
              "      <td>1000.000000</td>\n",
              "      <td>1000.00000</td>\n",
              "      <td>...</td>\n",
              "      <td>1000.000000</td>\n",
              "      <td>1000.000000</td>\n",
              "      <td>1000.000000</td>\n",
              "      <td>1000.000000</td>\n",
              "      <td>1000.000000</td>\n",
              "      <td>1000.000000</td>\n",
              "      <td>1000.000000</td>\n",
              "      <td>1000.000000</td>\n",
              "      <td>1000.00000</td>\n",
              "      <td>1000.000000</td>\n",
              "    </tr>\n",
              "    <tr>\n",
              "      <th>mean</th>\n",
              "      <td>500.500000</td>\n",
              "      <td>1248.510000</td>\n",
              "      <td>0.516000</td>\n",
              "      <td>1.540900</td>\n",
              "      <td>0.517000</td>\n",
              "      <td>4.593000</td>\n",
              "      <td>0.487000</td>\n",
              "      <td>33.652000</td>\n",
              "      <td>0.517500</td>\n",
              "      <td>139.51100</td>\n",
              "      <td>...</td>\n",
              "      <td>10.054000</td>\n",
              "      <td>627.121000</td>\n",
              "      <td>1239.774000</td>\n",
              "      <td>2138.998000</td>\n",
              "      <td>11.995000</td>\n",
              "      <td>5.316000</td>\n",
              "      <td>11.085000</td>\n",
              "      <td>0.756000</td>\n",
              "      <td>0.50000</td>\n",
              "      <td>0.507000</td>\n",
              "    </tr>\n",
              "    <tr>\n",
              "      <th>std</th>\n",
              "      <td>288.819436</td>\n",
              "      <td>432.458227</td>\n",
              "      <td>0.499994</td>\n",
              "      <td>0.829268</td>\n",
              "      <td>0.499961</td>\n",
              "      <td>4.463325</td>\n",
              "      <td>0.500081</td>\n",
              "      <td>18.128694</td>\n",
              "      <td>0.280861</td>\n",
              "      <td>34.85155</td>\n",
              "      <td>...</td>\n",
              "      <td>6.095099</td>\n",
              "      <td>432.929699</td>\n",
              "      <td>439.670981</td>\n",
              "      <td>1088.092278</td>\n",
              "      <td>4.320607</td>\n",
              "      <td>4.240062</td>\n",
              "      <td>5.497636</td>\n",
              "      <td>0.429708</td>\n",
              "      <td>0.50025</td>\n",
              "      <td>0.500201</td>\n",
              "    </tr>\n",
              "    <tr>\n",
              "      <th>min</th>\n",
              "      <td>1.000000</td>\n",
              "      <td>500.000000</td>\n",
              "      <td>0.000000</td>\n",
              "      <td>0.500000</td>\n",
              "      <td>0.000000</td>\n",
              "      <td>0.000000</td>\n",
              "      <td>0.000000</td>\n",
              "      <td>2.000000</td>\n",
              "      <td>0.100000</td>\n",
              "      <td>80.00000</td>\n",
              "      <td>...</td>\n",
              "      <td>0.000000</td>\n",
              "      <td>0.000000</td>\n",
              "      <td>501.000000</td>\n",
              "      <td>263.000000</td>\n",
              "      <td>5.000000</td>\n",
              "      <td>0.000000</td>\n",
              "      <td>2.000000</td>\n",
              "      <td>0.000000</td>\n",
              "      <td>0.00000</td>\n",
              "      <td>0.000000</td>\n",
              "    </tr>\n",
              "    <tr>\n",
              "      <th>25%</th>\n",
              "      <td>250.750000</td>\n",
              "      <td>895.000000</td>\n",
              "      <td>0.000000</td>\n",
              "      <td>0.700000</td>\n",
              "      <td>0.000000</td>\n",
              "      <td>1.000000</td>\n",
              "      <td>0.000000</td>\n",
              "      <td>18.000000</td>\n",
              "      <td>0.300000</td>\n",
              "      <td>109.75000</td>\n",
              "      <td>...</td>\n",
              "      <td>5.000000</td>\n",
              "      <td>263.750000</td>\n",
              "      <td>831.750000</td>\n",
              "      <td>1237.250000</td>\n",
              "      <td>8.000000</td>\n",
              "      <td>2.000000</td>\n",
              "      <td>6.750000</td>\n",
              "      <td>1.000000</td>\n",
              "      <td>0.00000</td>\n",
              "      <td>0.000000</td>\n",
              "    </tr>\n",
              "    <tr>\n",
              "      <th>50%</th>\n",
              "      <td>500.500000</td>\n",
              "      <td>1246.500000</td>\n",
              "      <td>1.000000</td>\n",
              "      <td>1.500000</td>\n",
              "      <td>1.000000</td>\n",
              "      <td>3.000000</td>\n",
              "      <td>0.000000</td>\n",
              "      <td>34.500000</td>\n",
              "      <td>0.500000</td>\n",
              "      <td>139.00000</td>\n",
              "      <td>...</td>\n",
              "      <td>10.000000</td>\n",
              "      <td>564.500000</td>\n",
              "      <td>1250.000000</td>\n",
              "      <td>2153.500000</td>\n",
              "      <td>12.000000</td>\n",
              "      <td>5.000000</td>\n",
              "      <td>11.000000</td>\n",
              "      <td>1.000000</td>\n",
              "      <td>0.50000</td>\n",
              "      <td>1.000000</td>\n",
              "    </tr>\n",
              "    <tr>\n",
              "      <th>75%</th>\n",
              "      <td>750.250000</td>\n",
              "      <td>1629.250000</td>\n",
              "      <td>1.000000</td>\n",
              "      <td>2.300000</td>\n",
              "      <td>1.000000</td>\n",
              "      <td>7.000000</td>\n",
              "      <td>1.000000</td>\n",
              "      <td>49.000000</td>\n",
              "      <td>0.800000</td>\n",
              "      <td>170.00000</td>\n",
              "      <td>...</td>\n",
              "      <td>16.000000</td>\n",
              "      <td>903.000000</td>\n",
              "      <td>1637.750000</td>\n",
              "      <td>3065.500000</td>\n",
              "      <td>16.000000</td>\n",
              "      <td>8.000000</td>\n",
              "      <td>16.000000</td>\n",
              "      <td>1.000000</td>\n",
              "      <td>1.00000</td>\n",
              "      <td>1.000000</td>\n",
              "    </tr>\n",
              "    <tr>\n",
              "      <th>max</th>\n",
              "      <td>1000.000000</td>\n",
              "      <td>1999.000000</td>\n",
              "      <td>1.000000</td>\n",
              "      <td>3.000000</td>\n",
              "      <td>1.000000</td>\n",
              "      <td>19.000000</td>\n",
              "      <td>1.000000</td>\n",
              "      <td>64.000000</td>\n",
              "      <td>1.000000</td>\n",
              "      <td>200.00000</td>\n",
              "      <td>...</td>\n",
              "      <td>20.000000</td>\n",
              "      <td>1907.000000</td>\n",
              "      <td>1998.000000</td>\n",
              "      <td>3989.000000</td>\n",
              "      <td>19.000000</td>\n",
              "      <td>18.000000</td>\n",
              "      <td>20.000000</td>\n",
              "      <td>1.000000</td>\n",
              "      <td>1.00000</td>\n",
              "      <td>1.000000</td>\n",
              "    </tr>\n",
              "  </tbody>\n",
              "</table>\n",
              "<p>8 rows × 21 columns</p>\n",
              "</div>\n",
              "      <button class=\"colab-df-convert\" onclick=\"convertToInteractive('df-b0da4cfd-279b-42f4-ab6e-50c59ef440dd')\"\n",
              "              title=\"Convert this dataframe to an interactive table.\"\n",
              "              style=\"display:none;\">\n",
              "        \n",
              "  <svg xmlns=\"http://www.w3.org/2000/svg\" height=\"24px\"viewBox=\"0 0 24 24\"\n",
              "       width=\"24px\">\n",
              "    <path d=\"M0 0h24v24H0V0z\" fill=\"none\"/>\n",
              "    <path d=\"M18.56 5.44l.94 2.06.94-2.06 2.06-.94-2.06-.94-.94-2.06-.94 2.06-2.06.94zm-11 1L8.5 8.5l.94-2.06 2.06-.94-2.06-.94L8.5 2.5l-.94 2.06-2.06.94zm10 10l.94 2.06.94-2.06 2.06-.94-2.06-.94-.94-2.06-.94 2.06-2.06.94z\"/><path d=\"M17.41 7.96l-1.37-1.37c-.4-.4-.92-.59-1.43-.59-.52 0-1.04.2-1.43.59L10.3 9.45l-7.72 7.72c-.78.78-.78 2.05 0 2.83L4 21.41c.39.39.9.59 1.41.59.51 0 1.02-.2 1.41-.59l7.78-7.78 2.81-2.81c.8-.78.8-2.07 0-2.86zM5.41 20L4 18.59l7.72-7.72 1.47 1.35L5.41 20z\"/>\n",
              "  </svg>\n",
              "      </button>\n",
              "      \n",
              "  <style>\n",
              "    .colab-df-container {\n",
              "      display:flex;\n",
              "      flex-wrap:wrap;\n",
              "      gap: 12px;\n",
              "    }\n",
              "\n",
              "    .colab-df-convert {\n",
              "      background-color: #E8F0FE;\n",
              "      border: none;\n",
              "      border-radius: 50%;\n",
              "      cursor: pointer;\n",
              "      display: none;\n",
              "      fill: #1967D2;\n",
              "      height: 32px;\n",
              "      padding: 0 0 0 0;\n",
              "      width: 32px;\n",
              "    }\n",
              "\n",
              "    .colab-df-convert:hover {\n",
              "      background-color: #E2EBFA;\n",
              "      box-shadow: 0px 1px 2px rgba(60, 64, 67, 0.3), 0px 1px 3px 1px rgba(60, 64, 67, 0.15);\n",
              "      fill: #174EA6;\n",
              "    }\n",
              "\n",
              "    [theme=dark] .colab-df-convert {\n",
              "      background-color: #3B4455;\n",
              "      fill: #D2E3FC;\n",
              "    }\n",
              "\n",
              "    [theme=dark] .colab-df-convert:hover {\n",
              "      background-color: #434B5C;\n",
              "      box-shadow: 0px 1px 3px 1px rgba(0, 0, 0, 0.15);\n",
              "      filter: drop-shadow(0px 1px 2px rgba(0, 0, 0, 0.3));\n",
              "      fill: #FFFFFF;\n",
              "    }\n",
              "  </style>\n",
              "\n",
              "      <script>\n",
              "        const buttonEl =\n",
              "          document.querySelector('#df-b0da4cfd-279b-42f4-ab6e-50c59ef440dd button.colab-df-convert');\n",
              "        buttonEl.style.display =\n",
              "          google.colab.kernel.accessAllowed ? 'block' : 'none';\n",
              "\n",
              "        async function convertToInteractive(key) {\n",
              "          const element = document.querySelector('#df-b0da4cfd-279b-42f4-ab6e-50c59ef440dd');\n",
              "          const dataTable =\n",
              "            await google.colab.kernel.invokeFunction('convertToInteractive',\n",
              "                                                     [key], {});\n",
              "          if (!dataTable) return;\n",
              "\n",
              "          const docLinkHtml = 'Like what you see? Visit the ' +\n",
              "            '<a target=\"_blank\" href=https://colab.research.google.com/notebooks/data_table.ipynb>data table notebook</a>'\n",
              "            + ' to learn more about interactive tables.';\n",
              "          element.innerHTML = '';\n",
              "          dataTable['output_type'] = 'display_data';\n",
              "          await google.colab.output.renderOutput(dataTable, element);\n",
              "          const docLink = document.createElement('div');\n",
              "          docLink.innerHTML = docLinkHtml;\n",
              "          element.appendChild(docLink);\n",
              "        }\n",
              "      </script>\n",
              "    </div>\n",
              "  </div>\n",
              "  "
            ]
          },
          "metadata": {}
        }
      ]
    },
    {
      "cell_type": "code",
      "source": [
        "#Podemos ver que as colunas dos dois dataset não possuem valores missing\n",
        "print(train.isna().sum())\n",
        "print( '*===============================*')\n",
        "print(test.isna().sum())"
      ],
      "metadata": {
        "colab": {
          "base_uri": "https://localhost:8080/"
        },
        "id": "zNyNt0NcPPZ9",
        "outputId": "71a5f221-a42a-4968-abf6-5243af9f10d5"
      },
      "execution_count": 11,
      "outputs": [
        {
          "output_type": "stream",
          "name": "stdout",
          "text": [
            "battery_power    0\n",
            "blue             0\n",
            "clock_speed      0\n",
            "dual_sim         0\n",
            "fc               0\n",
            "four_g           0\n",
            "int_memory       0\n",
            "m_dep            0\n",
            "mobile_wt        0\n",
            "n_cores          0\n",
            "pc               0\n",
            "px_height        0\n",
            "px_width         0\n",
            "ram              0\n",
            "sc_h             0\n",
            "sc_w             0\n",
            "talk_time        0\n",
            "three_g          0\n",
            "touch_screen     0\n",
            "wifi             0\n",
            "price_range      0\n",
            "dtype: int64\n",
            "*===============================*\n",
            "id               0\n",
            "battery_power    0\n",
            "blue             0\n",
            "clock_speed      0\n",
            "dual_sim         0\n",
            "fc               0\n",
            "four_g           0\n",
            "int_memory       0\n",
            "m_dep            0\n",
            "mobile_wt        0\n",
            "n_cores          0\n",
            "pc               0\n",
            "px_height        0\n",
            "px_width         0\n",
            "ram              0\n",
            "sc_h             0\n",
            "sc_w             0\n",
            "talk_time        0\n",
            "three_g          0\n",
            "touch_screen     0\n",
            "wifi             0\n",
            "dtype: int64\n"
          ]
        }
      ]
    },
    {
      "cell_type": "code",
      "source": [
        "#dimensões de cada dataset\n",
        "train.shape,test.shape\n",
        "\n",
        "#o dataset de treino tem 2000 linhas e 21 colunas\n",
        "\n",
        "#o dataset de teste tem 1000 linhas e 21 colunas"
      ],
      "metadata": {
        "colab": {
          "base_uri": "https://localhost:8080/"
        },
        "id": "bjARn_JVPd0M",
        "outputId": "ed77cb94-5b56-4d62-8833-a9182da08e35"
      },
      "execution_count": 12,
      "outputs": [
        {
          "output_type": "execute_result",
          "data": {
            "text/plain": [
              "((2000, 21), (1000, 21))"
            ]
          },
          "metadata": {},
          "execution_count": 12
        }
      ]
    },
    {
      "cell_type": "code",
      "source": [
        "#colunas de cada dataset\n",
        "train.columns.values,test.columns.values"
      ],
      "metadata": {
        "colab": {
          "base_uri": "https://localhost:8080/"
        },
        "id": "6-SruC20PjYs",
        "outputId": "87b3faa6-c0dc-4607-b95b-af530bce8866"
      },
      "execution_count": 13,
      "outputs": [
        {
          "output_type": "execute_result",
          "data": {
            "text/plain": [
              "(array(['battery_power', 'blue', 'clock_speed', 'dual_sim', 'fc', 'four_g',\n",
              "        'int_memory', 'm_dep', 'mobile_wt', 'n_cores', 'pc', 'px_height',\n",
              "        'px_width', 'ram', 'sc_h', 'sc_w', 'talk_time', 'three_g',\n",
              "        'touch_screen', 'wifi', 'price_range'], dtype=object),\n",
              " array(['id', 'battery_power', 'blue', 'clock_speed', 'dual_sim', 'fc',\n",
              "        'four_g', 'int_memory', 'm_dep', 'mobile_wt', 'n_cores', 'pc',\n",
              "        'px_height', 'px_width', 'ram', 'sc_h', 'sc_w', 'talk_time',\n",
              "        'three_g', 'touch_screen', 'wifi'], dtype=object))"
            ]
          },
          "metadata": {},
          "execution_count": 13
        }
      ]
    },
    {
      "cell_type": "code",
      "source": [
        "#excluindo a coluna 'id' do dataset de teste\n",
        "test=test.drop('id',axis=1)"
      ],
      "metadata": {
        "id": "dSzo6bB7Psxd"
      },
      "execution_count": 14,
      "outputs": []
    },
    {
      "cell_type": "code",
      "source": [
        "#agora vemos que o dataset de treino tem 21 colunas e o dataset de teste tem 20 colunas\n",
        "len(train.columns),len(test.columns)"
      ],
      "metadata": {
        "colab": {
          "base_uri": "https://localhost:8080/"
        },
        "id": "K8UPWAVOPvrz",
        "outputId": "114d745c-8482-4372-894d-fa02a0dc0974"
      },
      "execution_count": 15,
      "outputs": [
        {
          "output_type": "execute_result",
          "data": {
            "text/plain": [
              "(21, 20)"
            ]
          },
          "metadata": {},
          "execution_count": 15
        }
      ]
    },
    {
      "cell_type": "code",
      "source": [
        "#informações sobre as colunas\n",
        "train.info()"
      ],
      "metadata": {
        "colab": {
          "base_uri": "https://localhost:8080/"
        },
        "id": "YR1hd0igPzZM",
        "outputId": "d70ddacf-b2cd-4d00-bfce-09eb76b7f567"
      },
      "execution_count": 16,
      "outputs": [
        {
          "output_type": "stream",
          "name": "stdout",
          "text": [
            "<class 'pandas.core.frame.DataFrame'>\n",
            "RangeIndex: 2000 entries, 0 to 1999\n",
            "Data columns (total 21 columns):\n",
            " #   Column         Non-Null Count  Dtype  \n",
            "---  ------         --------------  -----  \n",
            " 0   battery_power  2000 non-null   int64  \n",
            " 1   blue           2000 non-null   int64  \n",
            " 2   clock_speed    2000 non-null   float64\n",
            " 3   dual_sim       2000 non-null   int64  \n",
            " 4   fc             2000 non-null   int64  \n",
            " 5   four_g         2000 non-null   int64  \n",
            " 6   int_memory     2000 non-null   int64  \n",
            " 7   m_dep          2000 non-null   float64\n",
            " 8   mobile_wt      2000 non-null   int64  \n",
            " 9   n_cores        2000 non-null   int64  \n",
            " 10  pc             2000 non-null   int64  \n",
            " 11  px_height      2000 non-null   int64  \n",
            " 12  px_width       2000 non-null   int64  \n",
            " 13  ram            2000 non-null   int64  \n",
            " 14  sc_h           2000 non-null   int64  \n",
            " 15  sc_w           2000 non-null   int64  \n",
            " 16  talk_time      2000 non-null   int64  \n",
            " 17  three_g        2000 non-null   int64  \n",
            " 18  touch_screen   2000 non-null   int64  \n",
            " 19  wifi           2000 non-null   int64  \n",
            " 20  price_range    2000 non-null   int64  \n",
            "dtypes: float64(2), int64(19)\n",
            "memory usage: 328.2 KB\n"
          ]
        }
      ]
    },
    {
      "cell_type": "markdown",
      "source": [
        "# Análise exploratória dos dados\n",
        "Nessa etapa iremos explorar a base de dados e entender melhor o comportamento de cada coluna em relação a coluna target que é referente a classificação de preços de celulares.\n",
        "\n",
        "Abaixo podemos ver que as classes da variável price_rance possuem o mesmo número de observações, logo não teremos problemas com classes desbalanceadas."
      ],
      "metadata": {
        "id": "jatRTe7oP3cb"
      }
    },
    {
      "cell_type": "code",
      "source": [
        "train['price_range'].value_counts()"
      ],
      "metadata": {
        "colab": {
          "base_uri": "https://localhost:8080/"
        },
        "id": "eHk0BVxbP42z",
        "outputId": "a5f39cb8-110d-4d14-8da1-940cbfbdbd62"
      },
      "execution_count": 17,
      "outputs": [
        {
          "output_type": "execute_result",
          "data": {
            "text/plain": [
              "1    500\n",
              "2    500\n",
              "3    500\n",
              "0    500\n",
              "Name: price_range, dtype: int64"
            ]
          },
          "metadata": {},
          "execution_count": 17
        }
      ]
    },
    {
      "cell_type": "code",
      "source": [
        "plt.figure(figsize=(20,3))\n",
        "sns.countplot(train['price_range'],palette='Paired')\n",
        "plt.xlabel('Faixas de Preços',size=15)\n",
        "plt.title('Número de observações por classe de price_frange',size=15)\n",
        "plt.ylabel('');"
      ],
      "metadata": {
        "colab": {
          "base_uri": "https://localhost:8080/",
          "height": 304
        },
        "id": "lxYprToTP8cD",
        "outputId": "1fc5bffb-6b86-4482-cdc6-d3cd65ee2322"
      },
      "execution_count": 18,
      "outputs": [
        {
          "output_type": "stream",
          "name": "stderr",
          "text": [
            "/usr/local/lib/python3.8/dist-packages/seaborn/_decorators.py:36: FutureWarning: Pass the following variable as a keyword arg: x. From version 0.12, the only valid positional argument will be `data`, and passing other arguments without an explicit keyword will result in an error or misinterpretation.\n",
            "  warnings.warn(\n"
          ]
        },
        {
          "output_type": "display_data",
          "data": {
            "text/plain": [
              "<Figure size 1440x216 with 1 Axes>"
            ],
            "image/png": "[encoded data removed]"
          },
          "metadata": {
            "needs_background": "light"
          }
        }
      ]
    },
    {
      "cell_type": "markdown",
      "source": [
        "BATTERY POWER\n",
        "\n",
        "Aqui podemos ver que os aparelhos de celulares com maior de maior preço possuem, em média, uma maior capacidade de bateria."
      ],
      "metadata": {
        "id": "FVBAtijvP_Ws"
      }
    },
    {
      "cell_type": "code",
      "source": [
        "fig, axarr = plt.subplots(1, 2, figsize=(20,3))\n",
        "sns.barplot(x='price_range',y='battery_power',data=train,palette='Paired',ax=axarr[0])\n",
        "sns.pointplot(y='battery_power',x='price_range',data=train,ax=axarr[1]);"
      ],
      "metadata": {
        "colab": {
          "base_uri": "https://localhost:8080/",
          "height": 226
        },
        "id": "w3lQJ1bUQAf0",
        "outputId": "131d660c-aff0-48cf-ae47-b6cdea86f08a"
      },
      "execution_count": 19,
      "outputs": [
        {
          "output_type": "display_data",
          "data": {
            "text/plain": [
              "<Figure size 1440x216 with 2 Axes>"
            ],
            "image/png": "[encoded data removed]"
          },
          "metadata": {
            "needs_background": "light"
          }
        }
      ]
    },
    {
      "cell_type": "markdown",
      "source": [
        "MOBILE WT\n",
        "\n",
        "Em média, aparelhos de celulares da faixa de preço 3 (muito caro) são mais leves, que as outras classes."
      ],
      "metadata": {
        "id": "IDsIa_A3QFwd"
      }
    },
    {
      "cell_type": "code",
      "source": [
        "fig, axarr = plt.subplots(1, 2, figsize=(20,3))\n",
        "sns.barplot(x='price_range',y='mobile_wt',data=train,palette='Paired',ax=axarr[0])\n",
        "sns.pointplot(y='mobile_wt',x='price_range',data=train,ax=axarr[1]);"
      ],
      "metadata": {
        "colab": {
          "base_uri": "https://localhost:8080/",
          "height": 226
        },
        "id": "bAvii9qaQGXs",
        "outputId": "06164559-22af-4ca6-e2ba-a2103f39e4d8"
      },
      "execution_count": 20,
      "outputs": [
        {
          "output_type": "display_data",
          "data": {
            "text/plain": [
              "<Figure size 1440x216 with 2 Axes>"
            ],
            "image/png": "[encoded data removed]"
          },
          "metadata": {
            "needs_background": "light"
          }
        }
      ]
    },
    {
      "cell_type": "markdown",
      "source": [
        "CLOCK SPEED\n",
        "\n",
        "Celulares da faixa de preço 1 possuem uma menor velocidade de microprocessador e da classe 0 uma velocidade maior."
      ],
      "metadata": {
        "id": "jPAWZsHvQK3E"
      }
    },
    {
      "cell_type": "code",
      "source": [
        "fig, axarr = plt.subplots(1, 2, figsize=(20,3))\n",
        "sns.barplot(x='price_range',y='clock_speed',data=train,palette='Paired',ax=axarr[0])\n",
        "sns.pointplot(y='clock_speed',x='price_range',data=train,ax=axarr[1]);"
      ],
      "metadata": {
        "colab": {
          "base_uri": "https://localhost:8080/",
          "height": 226
        },
        "id": "tSk6AzVZQLZk",
        "outputId": "dce56313-017d-42c0-d7d2-bcadfc30b7ed"
      },
      "execution_count": 21,
      "outputs": [
        {
          "output_type": "display_data",
          "data": {
            "text/plain": [
              "<Figure size 1440x216 with 2 Axes>"
            ],
            "image/png": "[encoded data removed]"
          },
          "metadata": {
            "needs_background": "light"
          }
        }
      ]
    },
    {
      "cell_type": "markdown",
      "source": [
        "FC\n",
        "\n",
        "Percebemos que as classes de preços com maiores pixels de câmera frontal, em média, são a classe 1 e a classe 2."
      ],
      "metadata": {
        "id": "R8TE6n_cQQHs"
      }
    },
    {
      "cell_type": "code",
      "source": [
        "fig, axarr = plt.subplots(1, 2, figsize=(20, 3))\n",
        "\n",
        "sns.barplot(x='price_range',y='fc',data=train,palette='Paired',ax=axarr[0])\n",
        "sns.pointplot(y='fc',x='price_range',data=train,ax=axarr[1]);\n"
      ],
      "metadata": {
        "colab": {
          "base_uri": "https://localhost:8080/",
          "height": 226
        },
        "id": "A3A2uyAGQQsb",
        "outputId": "5abe0e3e-ecca-4f04-f348-ae963baa3c78"
      },
      "execution_count": 22,
      "outputs": [
        {
          "output_type": "display_data",
          "data": {
            "text/plain": [
              "<Figure size 1440x216 with 2 Axes>"
            ],
            "image/png": "[encoded data removed]"
          },
          "metadata": {
            "needs_background": "light"
          }
        }
      ]
    },
    {
      "cell_type": "markdown",
      "source": [
        "INT MEMORY\n",
        "\n",
        "Os aparelho de celular da classe 3 (muito caro) possuem maior a maior média de capacidade de memória interna."
      ],
      "metadata": {
        "id": "UBsRZj3JQWH8"
      }
    },
    {
      "cell_type": "code",
      "source": [
        "fig, axarr = plt.subplots(1, 2, figsize=(20,3))\n",
        "sns.barplot(x='price_range',y='int_memory',data=train,palette='Paired',ax=axarr[0])\n",
        "sns.pointplot(y='int_memory',x='price_range',data=train,ax=axarr[1]);"
      ],
      "metadata": {
        "colab": {
          "base_uri": "https://localhost:8080/",
          "height": 226
        },
        "id": "8I-MO8k0QWxU",
        "outputId": "823a5cec-998b-43ae-c079-b4621bdffbfe"
      },
      "execution_count": 23,
      "outputs": [
        {
          "output_type": "display_data",
          "data": {
            "text/plain": [
              "<Figure size 1440x216 with 2 Axes>"
            ],
            "image/png": "[encoded data removed]"
          },
          "metadata": {
            "needs_background": "light"
          }
        }
      ]
    },
    {
      "cell_type": "markdown",
      "source": [
        "M_DEP\n",
        "\n",
        "Os aparelhos da classe 1 (custo médio) possuem, em média, uma maior profundidade móvel em cm."
      ],
      "metadata": {
        "id": "19T1ZfMrQauL"
      }
    },
    {
      "cell_type": "code",
      "source": [
        "fig, axarr = plt.subplots(1, 2, figsize=(20,3))\n",
        "sns.barplot(x='price_range',y='m_dep',data=train,palette='Paired',ax=axarr[0])\n",
        "sns.pointplot(y='m_dep',x='price_range',data=train,ax=axarr[1]);"
      ],
      "metadata": {
        "colab": {
          "base_uri": "https://localhost:8080/",
          "height": 226
        },
        "id": "PQe1aaYMQbQW",
        "outputId": "31b36c7c-301b-4116-9d03-ba13c800752f"
      },
      "execution_count": 24,
      "outputs": [
        {
          "output_type": "display_data",
          "data": {
            "text/plain": [
              "<Figure size 1440x216 with 2 Axes>"
            ],
            "image/png": "[encoded data removed]"
          },
          "metadata": {
            "needs_background": "light"
          }
        }
      ]
    },
    {
      "cell_type": "markdown",
      "source": [
        "N_CORES\n",
        "\n",
        "A classe 0 e a classe 2 possuem a maior média de processadores cores, enquanto a classe 1 possui a menor média. Notar que a diferença de médias de processadores cores é bem significativa."
      ],
      "metadata": {
        "id": "E_nXmYX2QfLM"
      }
    },
    {
      "cell_type": "code",
      "source": [
        "fig, axarr = plt.subplots(1, 2, figsize=(20,3))\n",
        "sns.barplot(x='price_range',y='n_cores',data=train,palette='Paired',ax=axarr[0])\n",
        "sns.pointplot(y='n_cores',x='price_range',data=train,ax=axarr[1]);"
      ],
      "metadata": {
        "colab": {
          "base_uri": "https://localhost:8080/",
          "height": 226
        },
        "id": "L3aBTdLbQgxs",
        "outputId": "7aed233a-592a-4c73-fea6-4ea65d8fb053"
      },
      "execution_count": 25,
      "outputs": [
        {
          "output_type": "display_data",
          "data": {
            "text/plain": [
              "<Figure size 1440x216 with 2 Axes>"
            ],
            "image/png": "[encoded data removed]"
          },
          "metadata": {
            "needs_background": "light"
          }
        }
      ]
    },
    {
      "cell_type": "markdown",
      "source": [
        "PC\n",
        "\n",
        "Quanto mais caro o aparelho de celular, maior o Mega Pixel da câmera princial."
      ],
      "metadata": {
        "id": "HBp0m0qNQ-H8"
      }
    },
    {
      "cell_type": "code",
      "source": [
        "fig, axarr = plt.subplots(1, 2, figsize=(20,3))\n",
        "sns.barplot(x='price_range',y='pc',data=train,palette='Paired',ax=axarr[0])\n",
        "sns.pointplot(y='pc',x='price_range',data=train,ax=axarr[1]);"
      ],
      "metadata": {
        "colab": {
          "base_uri": "https://localhost:8080/",
          "height": 228
        },
        "id": "43cM24pIQ-mz",
        "outputId": "34cb1f1b-0ed1-445b-e57b-b1a62ca1a91b"
      },
      "execution_count": 26,
      "outputs": [
        {
          "output_type": "display_data",
          "data": {
            "text/plain": [
              "<Figure size 1440x216 with 2 Axes>"
            ],
            "image/png": "[encoded data removed]"
          },
          "metadata": {
            "needs_background": "light"
          }
        }
      ]
    },
    {
      "cell_type": "markdown",
      "source": [
        "PX_HEIGHT\n",
        "\n",
        "Quanto mais caro o celular, maior (em média) a altura da resolução de pixels. Notar que a classe 1 tem uma altura de resolução maior que da classe 2."
      ],
      "metadata": {
        "id": "JB9kxO9wRTND"
      }
    },
    {
      "cell_type": "code",
      "source": [
        "fig, axarr = plt.subplots(1, 2, figsize=(20,3))\n",
        "sns.barplot(x='price_range',y='px_height',data=train,palette='Paired',ax=axarr[0])\n",
        "sns.pointplot(y='px_height',x='price_range',data=train,ax=axarr[1]);"
      ],
      "metadata": {
        "colab": {
          "base_uri": "https://localhost:8080/",
          "height": 226
        },
        "id": "iV9w7iYORTuM",
        "outputId": "9f0dd1a8-c16c-4e05-a501-cfd6cbd6546f"
      },
      "execution_count": 27,
      "outputs": [
        {
          "output_type": "display_data",
          "data": {
            "text/plain": [
              "<Figure size 1440x216 with 2 Axes>"
            ],
            "image/png": "[encoded data removed]"
          },
          "metadata": {
            "needs_background": "light"
          }
        }
      ]
    },
    {
      "cell_type": "markdown",
      "source": [
        "PX_WIDHT\n",
        "\n",
        "Quanto mais caro o celular, maior (em média) a largura da resolução de pixels"
      ],
      "metadata": {
        "id": "zUcvTUyMRdC0"
      }
    },
    {
      "cell_type": "code",
      "source": [
        "fig, axarr = plt.subplots(1, 2, figsize=(20,3))\n",
        "sns.barplot(x='price_range',y='px_width',data=train,palette='Paired',ax=axarr[0])\n",
        "sns.pointplot(y='px_width',x='price_range',data=train,ax=axarr[1]);"
      ],
      "metadata": {
        "colab": {
          "base_uri": "https://localhost:8080/",
          "height": 226
        },
        "id": "_paA5AVLRdkT",
        "outputId": "bc097505-1e61-41d7-e845-d01fb3364fb2"
      },
      "execution_count": 28,
      "outputs": [
        {
          "output_type": "display_data",
          "data": {
            "text/plain": [
              "<Figure size 1440x216 with 2 Axes>"
            ],
            "image/png": "[encoded data removed]"
          },
          "metadata": {
            "needs_background": "light"
          }
        }
      ]
    },
    {
      "cell_type": "markdown",
      "source": [
        "RAM\n",
        "\n",
        "A relação da classe do celular com a capacidade de memória RAM é linear e crescente."
      ],
      "metadata": {
        "id": "utjrzj4ERiB7"
      }
    },
    {
      "cell_type": "code",
      "source": [
        "fig, axarr = plt.subplots(1, 2, figsize=(20,3))\n",
        "sns.barplot(x='price_range',y='ram',data=train,palette='Paired',ax=axarr[0])\n",
        "sns.pointplot(y='ram',x='price_range',data=train,ax=axarr[1]);"
      ],
      "metadata": {
        "colab": {
          "base_uri": "https://localhost:8080/",
          "height": 226
        },
        "id": "8F1avPC0RihU",
        "outputId": "912779af-31c6-47c5-9311-dce538d34da8"
      },
      "execution_count": 29,
      "outputs": [
        {
          "output_type": "display_data",
          "data": {
            "text/plain": [
              "<Figure size 1440x216 with 2 Axes>"
            ],
            "image/png": "[encoded data removed]"
          },
          "metadata": {
            "needs_background": "light"
          }
        }
      ]
    },
    {
      "cell_type": "markdown",
      "source": [
        "SC_H\n",
        "\n",
        "A classe com maior altura de tela de celular é a 3. Notar que da classe 0 a 2 a altura média do celular vai caindo."
      ],
      "metadata": {
        "id": "EjIUTVZ2Rmb0"
      }
    },
    {
      "cell_type": "code",
      "source": [
        "fig, axarr = plt.subplots(1, 2, figsize=(20,3))\n",
        "sns.barplot(x='price_range',y='sc_h',data=train,palette='Paired',ax=axarr[0])\n",
        "sns.pointplot(y='sc_h',x='price_range',data=train,ax=axarr[1]);"
      ],
      "metadata": {
        "colab": {
          "base_uri": "https://localhost:8080/",
          "height": 226
        },
        "id": "xEungHXrRnN7",
        "outputId": "8094a950-753d-4771-8dc4-c1e6d3262fef"
      },
      "execution_count": 30,
      "outputs": [
        {
          "output_type": "display_data",
          "data": {
            "text/plain": [
              "<Figure size 1440x216 with 2 Axes>"
            ],
            "image/png": "[encoded data removed]"
          },
          "metadata": {
            "needs_background": "light"
          }
        }
      ]
    },
    {
      "cell_type": "markdown",
      "source": [
        "SC_W\n",
        "\n",
        "Quanto maior a faixa de preço, maior a largura da tela do celular."
      ],
      "metadata": {
        "id": "qLU3x9kBRsV0"
      }
    },
    {
      "cell_type": "code",
      "source": [
        "fig, axarr = plt.subplots(1, 2, figsize=(20,3))\n",
        "sns.barplot(x='price_range',y='sc_w',data=train,palette='Paired',ax=axarr[0])\n",
        "sns.pointplot(y='sc_w',x='price_range',data=train,ax=axarr[1]);"
      ],
      "metadata": {
        "colab": {
          "base_uri": "https://localhost:8080/",
          "height": 229
        },
        "id": "LpFy88y_RtAs",
        "outputId": "9555ea77-f8ec-4bb2-e01a-f1a76d865e7d"
      },
      "execution_count": 31,
      "outputs": [
        {
          "output_type": "display_data",
          "data": {
            "text/plain": [
              "<Figure size 1440x216 with 2 Axes>"
            ],
            "image/png": "[encoded data removed]"
          },
          "metadata": {
            "needs_background": "light"
          }
        }
      ]
    },
    {
      "cell_type": "markdown",
      "source": [
        "TALK_TIME\n",
        "\n",
        "A classe 1 é a que tem o maior tempo de duração de carga de bateria."
      ],
      "metadata": {
        "id": "P7i0y3QhRwZz"
      }
    },
    {
      "cell_type": "code",
      "source": [
        "fig, axarr = plt.subplots(1, 2, figsize=(20,3))\n",
        "sns.barplot(x='price_range',y='talk_time',data=train,palette='Paired',ax=axarr[0])\n",
        "sns.pointplot(y='talk_time',x='price_range',data=train,ax=axarr[1]);"
      ],
      "metadata": {
        "colab": {
          "base_uri": "https://localhost:8080/",
          "height": 226
        },
        "id": "j876EupQRxCb",
        "outputId": "bc01c4bd-ede6-4edb-dd0a-3ac8f4f50758"
      },
      "execution_count": 32,
      "outputs": [
        {
          "output_type": "display_data",
          "data": {
            "text/plain": [
              "<Figure size 1440x216 with 2 Axes>"
            ],
            "image/png": "[encoded data removed]"
          },
          "metadata": {
            "needs_background": "light"
          }
        }
      ]
    },
    {
      "cell_type": "markdown",
      "source": [
        "**Variáveis binárias**\n",
        "\n",
        "A variáveis binárias são aquelas que possuem apenas duas respostas (0 ou 1, verdadeiro ou falso, sim ou não). Abaixo veremos os gráficos de cada variável binárias dos dataset de treino e teste, que no nosso caso são 6 (blue, dual_sim, four_g, three_g, touch_screen e wifi) e possuem resposta 0 (não tem) ou 1 (tem).\n",
        "\n",
        "* 1º Gráfico: Mesmo sendo um diferença pequena, mas o número de celulares sem bluetooth é maior\n",
        "\n",
        "* 2º Gráfico: Aqui há mais aparelho com dual sim\n",
        "\n",
        "* 3º Gráfico: A maior parte dos aparelho possui 4G\n",
        "\n",
        "* 4º Gráfico: Já aqui, vemos que a grande maioria dos aparelhos tem 3G\n",
        "\n",
        "* 5º Gráfico: Praticamente a quantidade é a mesma dos que tem touch screen dos qe não tem\n",
        "\n",
        "* 6º Gráfico: O núemro de aparelhos que tem wifi são um pouco maior dos que não tem"
      ],
      "metadata": {
        "id": "ufahBkDZR2xj"
      }
    },
    {
      "cell_type": "code",
      "source": [
        "fig, axarr = plt.subplots(2, 3, figsize=(15, 8))\n",
        "sns.countplot(train['blue'],palette='coolwarm',ax=axarr[0][0])\n",
        "sns.countplot(train['dual_sim'],palette='hls',ax=axarr[0][1])\n",
        "sns.countplot(train['four_g'],palette='husl',ax=axarr[0][2])\n",
        "sns.countplot(train['three_g'],palette='Paired',ax=axarr[1][0])\n",
        "sns.countplot(train['touch_screen'],palette='Set2',ax=axarr[1][1])\n",
        "sns.countplot(train['wifi'],palette='BuGn_r',ax=axarr[1][2]);"
      ],
      "metadata": {
        "colab": {
          "base_uri": "https://localhost:8080/",
          "height": 726
        },
        "id": "S4Wxh6tIR-Rz",
        "outputId": "e6603d0a-2d2d-49c3-ae95-48d53a368fa0"
      },
      "execution_count": 33,
      "outputs": [
        {
          "output_type": "stream",
          "name": "stderr",
          "text": [
            "/usr/local/lib/python3.8/dist-packages/seaborn/_decorators.py:36: FutureWarning: Pass the following variable as a keyword arg: x. From version 0.12, the only valid positional argument will be `data`, and passing other arguments without an explicit keyword will result in an error or misinterpretation.\n",
            "  warnings.warn(\n",
            "/usr/local/lib/python3.8/dist-packages/seaborn/_decorators.py:36: FutureWarning: Pass the following variable as a keyword arg: x. From version 0.12, the only valid positional argument will be `data`, and passing other arguments without an explicit keyword will result in an error or misinterpretation.\n",
            "  warnings.warn(\n",
            "/usr/local/lib/python3.8/dist-packages/seaborn/_decorators.py:36: FutureWarning: Pass the following variable as a keyword arg: x. From version 0.12, the only valid positional argument will be `data`, and passing other arguments without an explicit keyword will result in an error or misinterpretation.\n",
            "  warnings.warn(\n",
            "/usr/local/lib/python3.8/dist-packages/seaborn/_decorators.py:36: FutureWarning: Pass the following variable as a keyword arg: x. From version 0.12, the only valid positional argument will be `data`, and passing other arguments without an explicit keyword will result in an error or misinterpretation.\n",
            "  warnings.warn(\n",
            "/usr/local/lib/python3.8/dist-packages/seaborn/_decorators.py:36: FutureWarning: Pass the following variable as a keyword arg: x. From version 0.12, the only valid positional argument will be `data`, and passing other arguments without an explicit keyword will result in an error or misinterpretation.\n",
            "  warnings.warn(\n",
            "/usr/local/lib/python3.8/dist-packages/seaborn/_decorators.py:36: FutureWarning: Pass the following variable as a keyword arg: x. From version 0.12, the only valid positional argument will be `data`, and passing other arguments without an explicit keyword will result in an error or misinterpretation.\n",
            "  warnings.warn(\n"
          ]
        },
        {
          "output_type": "display_data",
          "data": {
            "text/plain": [
              "<Figure size 1080x576 with 6 Axes>"
            ],
            "image/png": "[encoded data removed]"
          },
          "metadata": {
            "needs_background": "light"
          }
        }
      ]
    },
    {
      "cell_type": "markdown",
      "source": [
        "O mesmo comportamento que as variáveis binárias tem no dataset de treino repete-se no dataset de teste."
      ],
      "metadata": {
        "id": "3LHc5hmXSA88"
      }
    },
    {
      "cell_type": "code",
      "source": [
        "fig, axarr = plt.subplots(2, 3, figsize=(15, 8))\n",
        "sns.countplot(test['blue'],palette='coolwarm',ax=axarr[0][0])\n",
        "sns.countplot(test['dual_sim'],palette='hls',ax=axarr[0][1])\n",
        "sns.countplot(test['four_g'],palette='husl',ax=axarr[0][2])\n",
        "sns.countplot(test['three_g'],palette='Paired',ax=axarr[1][0])\n",
        "sns.countplot(test['touch_screen'],palette='Set2',ax=axarr[1][1])\n",
        "sns.countplot(test['wifi'],palette='BuGn_r',ax=axarr[1][2]);"
      ],
      "metadata": {
        "colab": {
          "base_uri": "https://localhost:8080/",
          "height": 726
        },
        "id": "qssw2UPTSB1r",
        "outputId": "e2d875bd-21a6-4715-a685-129fd8b9684c"
      },
      "execution_count": 34,
      "outputs": [
        {
          "output_type": "stream",
          "name": "stderr",
          "text": [
            "/usr/local/lib/python3.8/dist-packages/seaborn/_decorators.py:36: FutureWarning: Pass the following variable as a keyword arg: x. From version 0.12, the only valid positional argument will be `data`, and passing other arguments without an explicit keyword will result in an error or misinterpretation.\n",
            "  warnings.warn(\n",
            "/usr/local/lib/python3.8/dist-packages/seaborn/_decorators.py:36: FutureWarning: Pass the following variable as a keyword arg: x. From version 0.12, the only valid positional argument will be `data`, and passing other arguments without an explicit keyword will result in an error or misinterpretation.\n",
            "  warnings.warn(\n",
            "/usr/local/lib/python3.8/dist-packages/seaborn/_decorators.py:36: FutureWarning: Pass the following variable as a keyword arg: x. From version 0.12, the only valid positional argument will be `data`, and passing other arguments without an explicit keyword will result in an error or misinterpretation.\n",
            "  warnings.warn(\n",
            "/usr/local/lib/python3.8/dist-packages/seaborn/_decorators.py:36: FutureWarning: Pass the following variable as a keyword arg: x. From version 0.12, the only valid positional argument will be `data`, and passing other arguments without an explicit keyword will result in an error or misinterpretation.\n",
            "  warnings.warn(\n",
            "/usr/local/lib/python3.8/dist-packages/seaborn/_decorators.py:36: FutureWarning: Pass the following variable as a keyword arg: x. From version 0.12, the only valid positional argument will be `data`, and passing other arguments without an explicit keyword will result in an error or misinterpretation.\n",
            "  warnings.warn(\n",
            "/usr/local/lib/python3.8/dist-packages/seaborn/_decorators.py:36: FutureWarning: Pass the following variable as a keyword arg: x. From version 0.12, the only valid positional argument will be `data`, and passing other arguments without an explicit keyword will result in an error or misinterpretation.\n",
            "  warnings.warn(\n"
          ]
        },
        {
          "output_type": "display_data",
          "data": {
            "text/plain": [
              "<Figure size 1080x576 with 6 Axes>"
            ],
            "image/png": "[encoded data removed]"
          },
          "metadata": {
            "needs_background": "light"
          }
        }
      ]
    },
    {
      "cell_type": "markdown",
      "source": [
        "## Distribuição dos dados\n",
        "Saber como está a distribuição dos dados é importante, pois muitos modelos de machine learning consideram que os dados estão sob distribuição normal, sendo assim identificar se os dados estão com alguma distribuição diferente é importante para sabermos se precisaremos transformá-los (Padronização, mais adequada para modelos de classificação) para poder treinar os modelos.\n",
        "\n",
        "Para sabermos se a distribuição dos dados estão sob normalidade ou não temos duas alternativas: uma subjetiva e outra objetiva.\n",
        "\n",
        "A forma subjetiva é observar se o formato da distribuição dos dados possui um formato de sino e a forma objetiva é usar um teste estatístico que analisará a curtose e a assimetria da distribuição dos dados (Shapiro-Wilk ou Jarque-Bera).\n",
        "\n",
        "Abaixo vamos olhar a distribuição das variáveis (excluindo as variáveis binárias, pois por definição, temos apenas 2 valores e por isso não há uma distribuição para eles)."
      ],
      "metadata": {
        "id": "OyiAFMGwSerU"
      }
    },
    {
      "cell_type": "code",
      "source": [
        "train[['battery_power','clock_speed','fc','int_memory','m_dep','mobile_wt','n_cores','pc','px_height','px_width','ram','sc_h',\n",
        "       'sc_w','talk_time']].hist(figsize=(15,10),bins=100);\n",
        "\n",
        "#Podemos ver que nenhum histograma se assemelha com formato de sino, como é uma distribuição normal"
      ],
      "metadata": {
        "colab": {
          "base_uri": "https://localhost:8080/",
          "height": 607
        },
        "id": "a1O4VjRxSf5T",
        "outputId": "a24a857c-4444-4bc0-ea4f-df8675159673"
      },
      "execution_count": 35,
      "outputs": [
        {
          "output_type": "display_data",
          "data": {
            "text/plain": [
              "<Figure size 1080x720 with 16 Axes>"
            ],
            "image/png": "[encoded data removed]"
          },
          "metadata": {
            "needs_background": "light"
          }
        }
      ]
    },
    {
      "cell_type": "code",
      "source": [
        "#vamos olhar também para os dados de teste\n",
        "test[['battery_power','clock_speed','fc','int_memory','m_dep','mobile_wt','n_cores','pc','px_height','px_width','ram','sc_h',\n",
        "       'sc_w','talk_time']].hist(figsize=(15,10),color='red',bins=100);\n",
        "\n",
        "#Os dados de treino apresentaram resultados semelhantes"
      ],
      "metadata": {
        "colab": {
          "base_uri": "https://localhost:8080/",
          "height": 607
        },
        "id": "3TGe3atjTB5D",
        "outputId": "d5862d14-6528-46fc-ecf6-c5681f76cda2"
      },
      "execution_count": 36,
      "outputs": [
        {
          "output_type": "display_data",
          "data": {
            "text/plain": [
              "<Figure size 1080x720 with 16 Axes>"
            ],
            "image/png": "[encoded data removed]"
          },
          "metadata": {
            "needs_background": "light"
          }
        }
      ]
    },
    {
      "cell_type": "markdown",
      "source": [
        "Poderíamos parar por aqui, porém vamos aplicar também um teste estatístico de normalidade chamado de Shapiro-Wilk que testa se a distribuição dos dados é ou não normal. O teste de Shapiro-Wilk testa a hipótese nula de que os dados foram extraídos de uma distribuição normal.\n",
        "\n",
        "Para decidir se os dados possuem distribuição normal ou não, vamos observar o p-valor. Se o p-valor for superior a 5% (nível de significância) então há evidência a favor da hipótese nula, ou seja, os dados são normais."
      ],
      "metadata": {
        "id": "Hdj_xz9STJMF"
      }
    },
    {
      "cell_type": "code",
      "source": [
        "colunas=train[['battery_power','clock_speed','fc','int_memory','m_dep','mobile_wt','n_cores','pc',\n",
        "               'px_height','px_width','ram','sc_h','sc_w','talk_time']].columns"
      ],
      "metadata": {
        "id": "qNJGbVWYTKS1"
      },
      "execution_count": 37,
      "outputs": []
    },
    {
      "cell_type": "code",
      "source": [
        "for column in colunas:\n",
        "    shapiro=stats.shapiro(train[column])\n",
        "    print('O p-valor para a coluna da base de treino', column ,'é', shapiro[1])\n",
        "    print(' '*254)\n",
        "\n",
        "#Vemos que todos os p-valores estão abaixo de 5%, dessa forma as colunas em questão não são normais"
      ],
      "metadata": {
        "colab": {
          "base_uri": "https://localhost:8080/"
        },
        "id": "dnz1NKkfTNOs",
        "outputId": "ab26c1a1-bbb3-4923-986a-0e28ec52b11a"
      },
      "execution_count": 38,
      "outputs": [
        {
          "output_type": "stream",
          "name": "stdout",
          "text": [
            "O p-valor para a coluna da base de treino battery_power é 4.009382346038365e-25\n",
            "                                                                                                                                                                                                                                                              \n",
            "O p-valor para a coluna da base de treino clock_speed é 1.138689255356057e-32\n",
            "                                                                                                                                                                                                                                                              \n",
            "O p-valor para a coluna da base de treino fc é 1.739230333099164e-37\n",
            "                                                                                                                                                                                                                                                              \n",
            "O p-valor para a coluna da base de treino int_memory é 6.445664127425104e-25\n",
            "                                                                                                                                                                                                                                                              \n",
            "O p-valor para a coluna da base de treino m_dep é 2.0360180936468292e-30\n",
            "                                                                                                                                                                                                                                                              \n",
            "O p-valor para a coluna da base de treino mobile_wt é 6.498877725862919e-25\n",
            "                                                                                                                                                                                                                                                              \n",
            "O p-valor para a coluna da base de treino n_cores é 2.7506511385512688e-30\n",
            "                                                                                                                                                                                                                                                              \n",
            "O p-valor para a coluna da base de treino pc é 2.860286136295915e-25\n",
            "                                                                                                                                                                                                                                                              \n",
            "O p-valor para a coluna da base de treino px_height é 2.884661260339904e-26\n",
            "                                                                                                                                                                                                                                                              \n",
            "O p-valor para a coluna da base de treino px_width é 4.253962013688252e-24\n",
            "                                                                                                                                                                                                                                                              \n",
            "O p-valor para a coluna da base de treino ram é 1.8686481902611962e-24\n",
            "                                                                                                                                                                                                                                                              \n",
            "O p-valor para a coluna da base de treino sc_h é 3.464188371747996e-26\n",
            "                                                                                                                                                                                                                                                              \n",
            "O p-valor para a coluna da base de treino sc_w é 1.0556724989616141e-27\n",
            "                                                                                                                                                                                                                                                              \n",
            "O p-valor para a coluna da base de treino talk_time é 5.678931386893124e-26\n",
            "                                                                                                                                                                                                                                                              \n"
          ]
        }
      ]
    },
    {
      "cell_type": "code",
      "source": [
        "for column in colunas:\n",
        "    shapiro=stats.shapiro(test[column])\n",
        "    print('O p-valor para a coluna da base de teste', column ,'é', shapiro[1])\n",
        "    print(' '*254)\n",
        "\n",
        "#mesma coisa para as colunas do dataset de teste"
      ],
      "metadata": {
        "colab": {
          "base_uri": "https://localhost:8080/"
        },
        "id": "i7313hvvTXwr",
        "outputId": "c3403f36-c5b1-43f8-e305-31437fc208fc"
      },
      "execution_count": 39,
      "outputs": [
        {
          "output_type": "stream",
          "name": "stdout",
          "text": [
            "O p-valor para a coluna da base de teste battery_power é 1.0891682340110278e-16\n",
            "                                                                                                                                                                                                                                                              \n",
            "O p-valor para a coluna da base de teste clock_speed é 7.2554038142246e-24\n",
            "                                                                                                                                                                                                                                                              \n",
            "O p-valor para a coluna da base de teste fc é 1.045277985421564e-26\n",
            "                                                                                                                                                                                                                                                              \n",
            "O p-valor para a coluna da base de teste int_memory é 9.508586725084862e-17\n",
            "                                                                                                                                                                                                                                                              \n",
            "O p-valor para a coluna da base de teste m_dep é 1.8792407759449662e-20\n",
            "                                                                                                                                                                                                                                                              \n",
            "O p-valor para a coluna da base de teste mobile_wt é 5.717577611340444e-17\n",
            "                                                                                                                                                                                                                                                              \n",
            "O p-valor para a coluna da base de teste n_cores é 7.506077398840731e-22\n",
            "                                                                                                                                                                                                                                                              \n",
            "O p-valor para a coluna da base de teste pc é 1.4389849002931733e-18\n",
            "                                                                                                                                                                                                                                                              \n",
            "O p-valor para a coluna da base de teste px_height é 2.4763540917293955e-17\n",
            "                                                                                                                                                                                                                                                              \n",
            "O p-valor para a coluna da base de teste px_width é 2.8528545292377053e-18\n",
            "                                                                                                                                                                                                                                                              \n",
            "O p-valor para a coluna da base de teste ram é 3.6288744344946345e-17\n",
            "                                                                                                                                                                                                                                                              \n",
            "O p-valor para a coluna da base de teste sc_h é 1.1839277909179334e-18\n",
            "                                                                                                                                                                                                                                                              \n",
            "O p-valor para a coluna da base de teste sc_w é 1.9732942812078e-21\n",
            "                                                                                                                                                                                                                                                              \n",
            "O p-valor para a coluna da base de teste talk_time é 3.5469785907682095e-18\n",
            "                                                                                                                                                                                                                                                              \n"
          ]
        }
      ]
    },
    {
      "cell_type": "markdown",
      "source": [
        "Sendo que os resultados para os teste de normalidades das colunas apresentou evidência contra a hipótese nula, de normalidade, vamos então padronizar essas colunas."
      ],
      "metadata": {
        "id": "G8oXaDbkTaJ0"
      }
    },
    {
      "cell_type": "markdown",
      "source": [
        "# Identificação e tratamento de Outliers\n",
        "Outra coisa que precisamos observar é se os dados possuem outliers, ou seja, valores muito discrepantes que podem influenciar as medidas de localização e de variabilidade dos dados e, consequentemente, podem afetar o desempenho dos modelos de machine learning.\n",
        "\n",
        "Uma forma de identificar outliers é observando os gráficos Boxplot, que nos dão a divisão dos dados pelos seus quartis e em cada boxplot há um limite inferior e um limite superior, qualquer ponto que esteja fora desses limites são outliers. Quando identificamos muito outliers precisaremos tratá-los, ou removendo ou os substituindo (pela média aparada ou mediana).\n",
        "\n",
        "No nosso caso há poucos outliers em nas colunas dos datasets de treino e teste, sendo assim não há necessidade de removê-los ou de substituir seus valores."
      ],
      "metadata": {
        "id": "fFNWXAw0Tcdk"
      }
    },
    {
      "cell_type": "code",
      "source": [
        "train[['battery_power','clock_speed','fc','int_memory','m_dep','mobile_wt','n_cores','pc','px_height','px_width','ram','sc_h',\n",
        "       'sc_w','talk_time']].plot.box(figsize=(15,5),title='Gráficos Boxplots das colunas de treino');\n",
        "#um outlier na coluna fc\n",
        "#um outlier na coluna px_height"
      ],
      "metadata": {
        "colab": {
          "base_uri": "https://localhost:8080/",
          "height": 337
        },
        "id": "ZCFR9iXzTauT",
        "outputId": "f8d9b22b-d16b-4a54-f8eb-fcbebb30132d"
      },
      "execution_count": 40,
      "outputs": [
        {
          "output_type": "display_data",
          "data": {
            "text/plain": [
              "<Figure size 1080x360 with 1 Axes>"
            ],
            "image/png": "[encoded data removed]"
          },
          "metadata": {
            "needs_background": "light"
          }
        }
      ]
    },
    {
      "cell_type": "code",
      "source": [
        "test[['battery_power','clock_speed','fc','int_memory','m_dep','mobile_wt','n_cores','pc','px_height','px_width','ram','sc_h',\n",
        "       'sc_w','talk_time']].plot.box(figsize=(15,5),title='Gráficos Boxplots das colunas de teste');\n",
        "#um outlier na coluna fc\n",
        "#um outlier na coluna px_width\n",
        "#um outlier na coluna sc_w"
      ],
      "metadata": {
        "colab": {
          "base_uri": "https://localhost:8080/",
          "height": 337
        },
        "id": "ME6UMUkoTjlk",
        "outputId": "bb74a128-a85e-4050-8d7a-bf7b0c7c3ff0"
      },
      "execution_count": 41,
      "outputs": [
        {
          "output_type": "display_data",
          "data": {
            "text/plain": [
              "<Figure size 1080x360 with 1 Axes>"
            ],
            "image/png": "[encoded data removed]"
          },
          "metadata": {
            "needs_background": "light"
          }
        }
      ]
    },
    {
      "cell_type": "markdown",
      "source": [
        "# Correlação das features\n",
        "Podemos ver que a variável que é mais correlacionada com 'price_range' é 'ram', já as outras demais features não ultrapassam 20% de correlação, ou seja, um correlação fraca."
      ],
      "metadata": {
        "id": "wKuX_3qdTq1F"
      }
    },
    {
      "cell_type": "code",
      "source": [
        "%matplotlib inline\n",
        "plt.figure(figsize=(20,6))\n",
        "correlacao2=train.corr()\n",
        "sns.heatmap(correlacao2, annot = True, cmap = \"YlOrRd\");"
      ],
      "metadata": {
        "colab": {
          "base_uri": "https://localhost:8080/",
          "height": 440
        },
        "id": "cXw_YNfOTsCL",
        "outputId": "65fa2b2c-19c3-4992-efa3-b7266f163698"
      },
      "execution_count": 42,
      "outputs": [
        {
          "output_type": "display_data",
          "data": {
            "text/plain": [
              "<Figure size 1440x432 with 2 Axes>"
            ],
            "image/png": "[encoded data removed]"
          },
          "metadata": {
            "needs_background": "light"
          }
        }
      ]
    },
    {
      "cell_type": "markdown",
      "source": [
        "# Padronização dos dados\n",
        "Como falamos anteriormente, a padronização é mais adequada para problemas de classificação e é importante, pois, há modelo de machine learning que trabalham melhor com dado que tenham a distribuição normal e o processo de padronização fará essa transformação.\n",
        "\n",
        "A padronização irá pegar os dados das colunas, subtratir deles a média da coluna e dividir pelo desvio-padrão das mesmas. Aqui também iremos passar esse procedimento nas variáveis binárias."
      ],
      "metadata": {
        "id": "GyGfIuO7UFMU"
      }
    },
    {
      "cell_type": "code",
      "source": [
        "#separando a coluna com a variável target ou alvo\n",
        "classe=train['price_range']\n",
        "#separando as features\n",
        "train=train.drop('price_range',axis=1)\n",
        "scaler = StandardScaler().fit(train)\n",
        "train=scaler.transform(train)"
      ],
      "metadata": {
        "id": "HytpDjoZUGYU"
      },
      "execution_count": 43,
      "outputs": []
    },
    {
      "cell_type": "code",
      "source": [
        "train=pd.DataFrame(train, columns=['battery_power', 'blue', 'clock_speed', 'dual_sim', 'fc', 'four_g',\n",
        "       'int_memory', 'm_dep', 'mobile_wt', 'n_cores', 'pc', 'px_height',\n",
        "       'px_width', 'ram', 'sc_h', 'sc_w', 'talk_time', 'three_g',\n",
        "       'touch_screen', 'wifi'])"
      ],
      "metadata": {
        "id": "MfstsR2mUOf8"
      },
      "execution_count": 44,
      "outputs": []
    },
    {
      "cell_type": "code",
      "source": [
        "train.head()"
      ],
      "metadata": {
        "colab": {
          "base_uri": "https://localhost:8080/",
          "height": 270
        },
        "id": "oTH6YSYmURxz",
        "outputId": "b268b584-578e-4e2b-bb06-199b4a3c9d1d"
      },
      "execution_count": 45,
      "outputs": [
        {
          "output_type": "execute_result",
          "data": {
            "text/plain": [
              "   battery_power      blue  clock_speed  dual_sim        fc    four_g  \\\n",
              "0      -0.902597 -0.990050     0.830779 -1.019184 -0.762495 -1.043966   \n",
              "1      -0.495139  1.010051    -1.253064  0.981177 -0.992890  0.957886   \n",
              "2      -1.537686  1.010051    -1.253064  0.981177 -0.532099  0.957886   \n",
              "3      -1.419319  1.010051     1.198517 -1.019184 -0.992890 -1.043966   \n",
              "4       1.325906  1.010051    -0.395011 -1.019184  2.002254  0.957886   \n",
              "\n",
              "   int_memory     m_dep  mobile_wt   n_cores        pc  px_height  px_width  \\\n",
              "0   -1.380644  0.340740   1.349249 -1.101971 -1.305750  -1.408949 -1.146784   \n",
              "1    1.155024  0.687548  -0.120059 -0.664768 -0.645989   0.585778  1.704465   \n",
              "2    0.493546  1.381165   0.134244  0.209639 -0.645989   1.392684  1.074968   \n",
              "3   -1.215274  1.034357  -0.261339  0.646842 -0.151168   1.286750  1.236971   \n",
              "4    0.658915  0.340740   0.021220 -1.101971  0.673534   1.268718 -0.091452   \n",
              "\n",
              "        ram      sc_h      sc_w  talk_time   three_g  touch_screen      wifi  \n",
              "0  0.391703 -0.784983  0.283103   1.462493 -1.786861     -1.006018  0.986097  \n",
              "1  0.467317  1.114266 -0.635317  -0.734267  0.559641      0.994018 -1.014099  \n",
              "2  0.441498 -0.310171 -0.864922  -0.368140  0.559641      0.994018 -1.014099  \n",
              "3  0.594569  0.876859  0.512708  -0.002014  0.559641     -1.006018 -1.014099  \n",
              "4 -0.657666 -1.022389 -0.864922   0.730240  0.559641      0.994018 -1.014099  "
            ],
            "text/html": [
              "\n",
              "  <div id=\"df-fdfee56f-297b-42a8-8319-e812ac96b1bd\">\n",
              "    <div class=\"colab-df-container\">\n",
              "      <div>\n",
              "<style scoped>\n",
              "    .dataframe tbody tr th:only-of-type {\n",
              "        vertical-align: middle;\n",
              "    }\n",
              "\n",
              "    .dataframe tbody tr th {\n",
              "        vertical-align: top;\n",
              "    }\n",
              "\n",
              "    .dataframe thead th {\n",
              "        text-align: right;\n",
              "    }\n",
              "</style>\n",
              "<table border=\"1\" class=\"dataframe\">\n",
              "  <thead>\n",
              "    <tr style=\"text-align: right;\">\n",
              "      <th></th>\n",
              "      <th>battery_power</th>\n",
              "      <th>blue</th>\n",
              "      <th>clock_speed</th>\n",
              "      <th>dual_sim</th>\n",
              "      <th>fc</th>\n",
              "      <th>four_g</th>\n",
              "      <th>int_memory</th>\n",
              "      <th>m_dep</th>\n",
              "      <th>mobile_wt</th>\n",
              "      <th>n_cores</th>\n",
              "      <th>pc</th>\n",
              "      <th>px_height</th>\n",
              "      <th>px_width</th>\n",
              "      <th>ram</th>\n",
              "      <th>sc_h</th>\n",
              "      <th>sc_w</th>\n",
              "      <th>talk_time</th>\n",
              "      <th>three_g</th>\n",
              "      <th>touch_screen</th>\n",
              "      <th>wifi</th>\n",
              "    </tr>\n",
              "  </thead>\n",
              "  <tbody>\n",
              "    <tr>\n",
              "      <th>0</th>\n",
              "      <td>-0.902597</td>\n",
              "      <td>-0.990050</td>\n",
              "      <td>0.830779</td>\n",
              "      <td>-1.019184</td>\n",
              "      <td>-0.762495</td>\n",
              "      <td>-1.043966</td>\n",
              "      <td>-1.380644</td>\n",
              "      <td>0.340740</td>\n",
              "      <td>1.349249</td>\n",
              "      <td>-1.101971</td>\n",
              "      <td>-1.305750</td>\n",
              "      <td>-1.408949</td>\n",
              "      <td>-1.146784</td>\n",
              "      <td>0.391703</td>\n",
              "      <td>-0.784983</td>\n",
              "      <td>0.283103</td>\n",
              "      <td>1.462493</td>\n",
              "      <td>-1.786861</td>\n",
              "      <td>-1.006018</td>\n",
              "      <td>0.986097</td>\n",
              "    </tr>\n",
              "    <tr>\n",
              "      <th>1</th>\n",
              "      <td>-0.495139</td>\n",
              "      <td>1.010051</td>\n",
              "      <td>-1.253064</td>\n",
              "      <td>0.981177</td>\n",
              "      <td>-0.992890</td>\n",
              "      <td>0.957886</td>\n",
              "      <td>1.155024</td>\n",
              "      <td>0.687548</td>\n",
              "      <td>-0.120059</td>\n",
              "      <td>-0.664768</td>\n",
              "      <td>-0.645989</td>\n",
              "      <td>0.585778</td>\n",
              "      <td>1.704465</td>\n",
              "      <td>0.467317</td>\n",
              "      <td>1.114266</td>\n",
              "      <td>-0.635317</td>\n",
              "      <td>-0.734267</td>\n",
              "      <td>0.559641</td>\n",
              "      <td>0.994018</td>\n",
              "      <td>-1.014099</td>\n",
              "    </tr>\n",
              "    <tr>\n",
              "      <th>2</th>\n",
              "      <td>-1.537686</td>\n",
              "      <td>1.010051</td>\n",
              "      <td>-1.253064</td>\n",
              "      <td>0.981177</td>\n",
              "      <td>-0.532099</td>\n",
              "      <td>0.957886</td>\n",
              "      <td>0.493546</td>\n",
              "      <td>1.381165</td>\n",
              "      <td>0.134244</td>\n",
              "      <td>0.209639</td>\n",
              "      <td>-0.645989</td>\n",
              "      <td>1.392684</td>\n",
              "      <td>1.074968</td>\n",
              "      <td>0.441498</td>\n",
              "      <td>-0.310171</td>\n",
              "      <td>-0.864922</td>\n",
              "      <td>-0.368140</td>\n",
              "      <td>0.559641</td>\n",
              "      <td>0.994018</td>\n",
              "      <td>-1.014099</td>\n",
              "    </tr>\n",
              "    <tr>\n",
              "      <th>3</th>\n",
              "      <td>-1.419319</td>\n",
              "      <td>1.010051</td>\n",
              "      <td>1.198517</td>\n",
              "      <td>-1.019184</td>\n",
              "      <td>-0.992890</td>\n",
              "      <td>-1.043966</td>\n",
              "      <td>-1.215274</td>\n",
              "      <td>1.034357</td>\n",
              "      <td>-0.261339</td>\n",
              "      <td>0.646842</td>\n",
              "      <td>-0.151168</td>\n",
              "      <td>1.286750</td>\n",
              "      <td>1.236971</td>\n",
              "      <td>0.594569</td>\n",
              "      <td>0.876859</td>\n",
              "      <td>0.512708</td>\n",
              "      <td>-0.002014</td>\n",
              "      <td>0.559641</td>\n",
              "      <td>-1.006018</td>\n",
              "      <td>-1.014099</td>\n",
              "    </tr>\n",
              "    <tr>\n",
              "      <th>4</th>\n",
              "      <td>1.325906</td>\n",
              "      <td>1.010051</td>\n",
              "      <td>-0.395011</td>\n",
              "      <td>-1.019184</td>\n",
              "      <td>2.002254</td>\n",
              "      <td>0.957886</td>\n",
              "      <td>0.658915</td>\n",
              "      <td>0.340740</td>\n",
              "      <td>0.021220</td>\n",
              "      <td>-1.101971</td>\n",
              "      <td>0.673534</td>\n",
              "      <td>1.268718</td>\n",
              "      <td>-0.091452</td>\n",
              "      <td>-0.657666</td>\n",
              "      <td>-1.022389</td>\n",
              "      <td>-0.864922</td>\n",
              "      <td>0.730240</td>\n",
              "      <td>0.559641</td>\n",
              "      <td>0.994018</td>\n",
              "      <td>-1.014099</td>\n",
              "    </tr>\n",
              "  </tbody>\n",
              "</table>\n",
              "</div>\n",
              "      <button class=\"colab-df-convert\" onclick=\"convertToInteractive('df-fdfee56f-297b-42a8-8319-e812ac96b1bd')\"\n",
              "              title=\"Convert this dataframe to an interactive table.\"\n",
              "              style=\"display:none;\">\n",
              "        \n",
              "  <svg xmlns=\"http://www.w3.org/2000/svg\" height=\"24px\"viewBox=\"0 0 24 24\"\n",
              "       width=\"24px\">\n",
              "    <path d=\"M0 0h24v24H0V0z\" fill=\"none\"/>\n",
              "    <path d=\"M18.56 5.44l.94 2.06.94-2.06 2.06-.94-2.06-.94-.94-2.06-.94 2.06-2.06.94zm-11 1L8.5 8.5l.94-2.06 2.06-.94-2.06-.94L8.5 2.5l-.94 2.06-2.06.94zm10 10l.94 2.06.94-2.06 2.06-.94-2.06-.94-.94-2.06-.94 2.06-2.06.94z\"/><path d=\"M17.41 7.96l-1.37-1.37c-.4-.4-.92-.59-1.43-.59-.52 0-1.04.2-1.43.59L10.3 9.45l-7.72 7.72c-.78.78-.78 2.05 0 2.83L4 21.41c.39.39.9.59 1.41.59.51 0 1.02-.2 1.41-.59l7.78-7.78 2.81-2.81c.8-.78.8-2.07 0-2.86zM5.41 20L4 18.59l7.72-7.72 1.47 1.35L5.41 20z\"/>\n",
              "  </svg>\n",
              "      </button>\n",
              "      \n",
              "  <style>\n",
              "    .colab-df-container {\n",
              "      display:flex;\n",
              "      flex-wrap:wrap;\n",
              "      gap: 12px;\n",
              "    }\n",
              "\n",
              "    .colab-df-convert {\n",
              "      background-color: #E8F0FE;\n",
              "      border: none;\n",
              "      border-radius: 50%;\n",
              "      cursor: pointer;\n",
              "      display: none;\n",
              "      fill: #1967D2;\n",
              "      height: 32px;\n",
              "      padding: 0 0 0 0;\n",
              "      width: 32px;\n",
              "    }\n",
              "\n",
              "    .colab-df-convert:hover {\n",
              "      background-color: #E2EBFA;\n",
              "      box-shadow: 0px 1px 2px rgba(60, 64, 67, 0.3), 0px 1px 3px 1px rgba(60, 64, 67, 0.15);\n",
              "      fill: #174EA6;\n",
              "    }\n",
              "\n",
              "    [theme=dark] .colab-df-convert {\n",
              "      background-color: #3B4455;\n",
              "      fill: #D2E3FC;\n",
              "    }\n",
              "\n",
              "    [theme=dark] .colab-df-convert:hover {\n",
              "      background-color: #434B5C;\n",
              "      box-shadow: 0px 1px 3px 1px rgba(0, 0, 0, 0.15);\n",
              "      filter: drop-shadow(0px 1px 2px rgba(0, 0, 0, 0.3));\n",
              "      fill: #FFFFFF;\n",
              "    }\n",
              "  </style>\n",
              "\n",
              "      <script>\n",
              "        const buttonEl =\n",
              "          document.querySelector('#df-fdfee56f-297b-42a8-8319-e812ac96b1bd button.colab-df-convert');\n",
              "        buttonEl.style.display =\n",
              "          google.colab.kernel.accessAllowed ? 'block' : 'none';\n",
              "\n",
              "        async function convertToInteractive(key) {\n",
              "          const element = document.querySelector('#df-fdfee56f-297b-42a8-8319-e812ac96b1bd');\n",
              "          const dataTable =\n",
              "            await google.colab.kernel.invokeFunction('convertToInteractive',\n",
              "                                                     [key], {});\n",
              "          if (!dataTable) return;\n",
              "\n",
              "          const docLinkHtml = 'Like what you see? Visit the ' +\n",
              "            '<a target=\"_blank\" href=https://colab.research.google.com/notebooks/data_table.ipynb>data table notebook</a>'\n",
              "            + ' to learn more about interactive tables.';\n",
              "          element.innerHTML = '';\n",
              "          dataTable['output_type'] = 'display_data';\n",
              "          await google.colab.output.renderOutput(dataTable, element);\n",
              "          const docLink = document.createElement('div');\n",
              "          docLink.innerHTML = docLinkHtml;\n",
              "          element.appendChild(docLink);\n",
              "        }\n",
              "      </script>\n",
              "    </div>\n",
              "  </div>\n",
              "  "
            ]
          },
          "metadata": {},
          "execution_count": 45
        }
      ]
    },
    {
      "cell_type": "markdown",
      "source": [
        "# Separando os dados\n",
        "Aqui iremos separar os dados de treino (o modelo aprenderá com esses dados) e teste (que serão usados para avaliar se o modelo está tendo um bom desempenho). O train_test_split irá separar os dados de treino e de teste de forma aleatória para eliminar o viés. Por padrão os dados serão separados em 75% para treino e 25% para teste.\n",
        "\n",
        "Vamos aqui separar a variável alvo ou target das demais features."
      ],
      "metadata": {
        "id": "G_Y3ulrSUV2L"
      }
    },
    {
      "cell_type": "code",
      "source": [
        "#usaremos o train_test_split para separar os dados de treino teste\n",
        "X_treino,X_teste,y_treino,y_teste=train_test_split(train,classe,random_state=42)"
      ],
      "metadata": {
        "id": "K4DIOFl7UXiL"
      },
      "execution_count": 46,
      "outputs": []
    },
    {
      "cell_type": "code",
      "source": [
        "#aqui podemos ver as dimensões dos sub datasets \n",
        "print(X_treino.shape,X_teste.shape,y_treino.shape,y_teste.shape)"
      ],
      "metadata": {
        "colab": {
          "base_uri": "https://localhost:8080/"
        },
        "id": "iAneCSd7UcOr",
        "outputId": "78d8eaa0-8b03-408d-d5ca-9aea2caa581c"
      },
      "execution_count": 47,
      "outputs": [
        {
          "output_type": "stream",
          "name": "stdout",
          "text": [
            "(1500, 20) (500, 20) (1500,) (500,)\n"
          ]
        }
      ]
    },
    {
      "cell_type": "markdown",
      "source": [
        "# Aplicando a biblioteca de auto machine learning\n",
        "Aqui aplicaremos a biblioteca TPOT e com o seu uso podemos dispensar a seleção de modelos de machine learning. Ao invés de ficarmos coletando modelos, treinando, testando, essa biblioteca já faz a seleção de diversos modelos de forma automática e gera diversos pipelines. Caberá aepnas o cálculo das métricas de avaliação (acurácia, recall, f1-score).\n",
        "\n",
        "Definiremos na biblioteca cerca de 5 gerações, ou seja, ela vai gerar 5 pipelines."
      ],
      "metadata": {
        "id": "mS1qqbqTUfMz"
      }
    },
    {
      "cell_type": "code",
      "source": [
        "#Instanciando o modelo\n",
        "\n",
        "#generations são o número de vezes que a biblioteca vai fazer iterações para executar o processo de otimização de pipeline.\n",
        "pipeline_optimizer = TPOTClassifier(generations=20, population_size=20, cv=7,random_state=42, verbosity=2)"
      ],
      "metadata": {
        "id": "PJvCx658Ugl8"
      },
      "execution_count": 48,
      "outputs": []
    },
    {
      "cell_type": "code",
      "source": [
        "#treinando o modelo\n",
        "pipeline_optimizer.fit(X_treino,y_treino)"
      ],
      "metadata": {
        "colab": {
          "base_uri": "https://localhost:8080/",
          "height": 801,
          "referenced_widgets": [
            "41be7ca91c414f318c19c74844c1c686",
            "e08ef42d3470497aad299b1928e35492",
            "7455a7f3913742c9b426ec9783139fb9",
            "9e4acfbfdab34a3c99c55ff31a557a13",
            "e545f2d2ccf748e9a226d24b21c5e8ff",
            "9ee64801374c46a8914fcc306e3e8a68",
            "140bf1cf6c1a4bbea3c05367690c1bdf",
            "1c03728b5c864dfd9e0aeeb16e3effde",
            "82f7a1c0c6cf41bcbc7cb7453be6a9ed",
            "0f0e9bd76e1743d2ac0b9aa9174e33c1",
            "95b9ef4c42214c21a8f22af77e81aaa8"
          ]
        },
        "id": "wGo5jYzTUk_s",
        "outputId": "741287f0-daf9-4d16-fce4-81b1884e2a4e"
      },
      "execution_count": 49,
      "outputs": [
        {
          "output_type": "display_data",
          "data": {
            "text/plain": [
              "Optimization Progress:   0%|          | 0/420 [00:00<?, ?pipeline/s]"
            ],
            "application/vnd.jupyter.widget-view+json": {
              "version_major": 2,
              "version_minor": 0,
              "model_id": "41be7ca91c414f318c19c74844c1c686"
            }
          },
          "metadata": {}
        },
        {
          "output_type": "stream",
          "name": "stdout",
          "text": [
            "\n",
            "Generation 1 - Current best internal CV score: 0.9639891948955197\n",
            "\n",
            "Generation 2 - Current best internal CV score: 0.9639891948955197\n",
            "\n",
            "Generation 3 - Current best internal CV score: 0.9639891948955197\n",
            "\n",
            "Generation 4 - Current best internal CV score: 0.9639891948955197\n",
            "\n",
            "Generation 5 - Current best internal CV score: 0.9639891948955197\n",
            "\n",
            "Generation 6 - Current best internal CV score: 0.9639891948955197\n",
            "\n",
            "Generation 7 - Current best internal CV score: 0.9639891948955197\n",
            "\n",
            "Generation 8 - Current best internal CV score: 0.9639891948955197\n",
            "\n",
            "Generation 9 - Current best internal CV score: 0.9639891948955197\n",
            "\n",
            "Generation 10 - Current best internal CV score: 0.9646598565529233\n",
            "\n",
            "Generation 11 - Current best internal CV score: 0.9646660663830844\n",
            "\n",
            "Generation 12 - Current best internal CV score: 0.9646660663830844\n",
            "\n",
            "Generation 13 - Current best internal CV score: 0.9646660663830844\n",
            "\n",
            "Generation 14 - Current best internal CV score: 0.9693172291737822\n",
            "\n",
            "Generation 15 - Current best internal CV score: 0.9766665631694973\n",
            "\n",
            "Generation 16 - Current best internal CV score: 0.9766665631694973\n",
            "\n",
            "Generation 17 - Current best internal CV score: 0.9766665631694973\n",
            "\n",
            "Generation 18 - Current best internal CV score: 0.9766665631694973\n",
            "\n",
            "Generation 19 - Current best internal CV score: 0.9786599186512248\n",
            "\n",
            "Generation 20 - Current best internal CV score: 0.9786599186512248\n",
            "\n",
            "Best pipeline: XGBClassifier(LogisticRegression(RFE(CombineDFs(input_matrix, input_matrix), criterion=entropy, max_features=1.0, n_estimators=100, step=0.9000000000000001), C=0.1, dual=False, penalty=l2), learning_rate=1.0, max_depth=6, min_child_weight=3, n_estimators=100, n_jobs=1, subsample=0.6000000000000001, verbosity=0)\n"
          ]
        },
        {
          "output_type": "execute_result",
          "data": {
            "text/plain": [
              "TPOTClassifier(cv=7, generations=20, population_size=20, random_state=42,\n",
              "               verbosity=2)"
            ]
          },
          "metadata": {},
          "execution_count": 49
        }
      ]
    },
    {
      "cell_type": "markdown",
      "source": [
        "Após as 20 generations o modelo gerou um modelo com um cross validation score de 97.87%.\n",
        "\n",
        "O modelo gerado foi um XGBClassifier(LogisticRegression(RFE(CombineDFs(input_matrix, input_matrix), criterion=entropy, max_features=1.0, n_estimators=100, step=0.9000000000000001), C=0.1, dual=False, penalty=l2), learning_rate=1.0, max_depth=6, min_child_weight=3, n_estimators=100, n_jobs=1, subsample=0.6000000000000001, verbosity=0)\n",
        "TPOTClassifier(cv=7, generations=20, population_size=20, random_state=42,\n",
        "               verbosity=2)"
      ],
      "metadata": {
        "id": "Qg23QZimdGuz"
      }
    },
    {
      "cell_type": "markdown",
      "source": [
        "# Gerando previsões com os dados de teste"
      ],
      "metadata": {
        "id": "TMGpM_TUdxdU"
      }
    },
    {
      "cell_type": "code",
      "source": [
        "y_prev=pipeline_optimizer.predict(X_teste)"
      ],
      "metadata": {
        "id": "rDax6_lgdusq"
      },
      "execution_count": 50,
      "outputs": []
    },
    {
      "cell_type": "code",
      "source": [
        "y_prev"
      ],
      "metadata": {
        "colab": {
          "base_uri": "https://localhost:8080/"
        },
        "id": "FUkf5HHzd1u8",
        "outputId": "7ba4fb9c-4a10-4563-f28c-5477b266d83e"
      },
      "execution_count": 51,
      "outputs": [
        {
          "output_type": "execute_result",
          "data": {
            "text/plain": [
              "array([0, 2, 1, 3, 1, 1, 2, 0, 3, 1, 0, 1, 2, 3, 3, 2, 3, 3, 1, 0, 0, 2,\n",
              "       1, 2, 0, 1, 3, 2, 2, 0, 0, 0, 3, 0, 1, 1, 2, 0, 3, 0, 2, 3, 2, 0,\n",
              "       3, 3, 2, 1, 3, 1, 3, 1, 0, 0, 1, 0, 1, 3, 0, 0, 1, 3, 3, 1, 0, 0,\n",
              "       3, 3, 1, 2, 2, 2, 0, 1, 2, 0, 1, 3, 2, 2, 3, 2, 1, 0, 1, 3, 1, 3,\n",
              "       3, 0, 3, 3, 2, 1, 3, 2, 2, 3, 1, 1, 0, 0, 1, 0, 0, 3, 2, 0, 1, 1,\n",
              "       0, 0, 3, 1, 3, 2, 3, 2, 0, 2, 1, 3, 2, 1, 3, 3, 0, 2, 0, 2, 3, 0,\n",
              "       2, 2, 0, 3, 1, 0, 0, 2, 2, 1, 3, 2, 0, 0, 0, 1, 1, 2, 3, 1, 1, 0,\n",
              "       2, 2, 0, 1, 0, 2, 2, 3, 3, 3, 1, 0, 1, 2, 2, 3, 3, 0, 1, 0, 3, 1,\n",
              "       1, 2, 1, 0, 0, 0, 0, 0, 3, 2, 0, 3, 0, 0, 0, 0, 1, 3, 3, 1, 0, 1,\n",
              "       1, 1, 1, 2, 2, 3, 3, 3, 1, 2, 0, 0, 0, 2, 1, 1, 3, 1, 1, 2, 1, 1,\n",
              "       3, 2, 3, 0, 0, 2, 1, 3, 0, 1, 2, 0, 2, 3, 2, 0, 1, 3, 3, 0, 1, 3,\n",
              "       3, 3, 0, 3, 1, 2, 3, 3, 2, 1, 1, 3, 3, 1, 3, 3, 3, 3, 3, 0, 1, 2,\n",
              "       3, 2, 3, 0, 2, 3, 2, 2, 2, 1, 0, 2, 0, 3, 3, 1, 3, 1, 0, 3, 1, 2,\n",
              "       0, 0, 3, 0, 1, 2, 3, 3, 3, 1, 1, 0, 1, 3, 3, 0, 1, 2, 2, 0, 3, 3,\n",
              "       2, 3, 2, 3, 2, 0, 2, 1, 1, 1, 0, 0, 0, 3, 3, 3, 1, 0, 1, 0, 2, 2,\n",
              "       3, 0, 3, 3, 2, 1, 3, 0, 0, 3, 1, 3, 2, 0, 1, 1, 1, 1, 1, 3, 2, 0,\n",
              "       0, 3, 3, 0, 3, 0, 0, 2, 0, 1, 2, 2, 2, 3, 0, 3, 2, 2, 3, 3, 3, 2,\n",
              "       1, 1, 0, 3, 1, 3, 3, 0, 2, 3, 2, 3, 3, 3, 0, 0, 2, 3, 0, 0, 2, 3,\n",
              "       2, 1, 1, 2, 1, 3, 1, 3, 1, 2, 0, 0, 1, 0, 1, 0, 1, 0, 2, 2, 3, 2,\n",
              "       1, 1, 2, 1, 1, 3, 1, 0, 0, 3, 0, 1, 0, 1, 2, 2, 3, 0, 2, 0, 1, 1,\n",
              "       3, 3, 1, 2, 0, 2, 0, 0, 3, 3, 0, 2, 2, 2, 3, 1, 2, 0, 1, 3, 1, 0,\n",
              "       3, 1, 0, 0, 3, 2, 3, 2, 0, 2, 1, 0, 1, 2, 3, 2, 1, 1, 0, 1, 2, 2,\n",
              "       1, 0, 1, 3, 1, 2, 0, 2, 2, 3, 1, 0, 1, 2, 3, 1])"
            ]
          },
          "metadata": {},
          "execution_count": 51
        }
      ]
    },
    {
      "cell_type": "markdown",
      "source": [
        "# Analisando os resultados\n",
        "Vamos analisar os resultados apresentados pelo modelo gerado pela biblioteca TPOT. Aqui iremos gerar a matriz de confusão do modelo, as métricas de avaliação para cada uma das classes e analisar se o modelo gerado possui alguma evidência de underfitting ou overfitting.\n",
        "\n",
        "Abaixo podemos ver que o modelo não possui evidência de presença de overffiting nem de underfitting, pois a diferença entre o score de treino e o score de teste é pequena."
      ],
      "metadata": {
        "id": "BoUxlZxZd3wC"
      }
    },
    {
      "cell_type": "code",
      "source": [
        "print('O score de treino do modelo gerado pela biblioteca TPOT foi:',pipeline_optimizer.score(X_treino, y_treino))\n",
        "print('O score de teste do modelo gerado pela biblioteca TPOT foi:',pipeline_optimizer.score(X_teste, y_teste))"
      ],
      "metadata": {
        "colab": {
          "base_uri": "https://localhost:8080/"
        },
        "id": "9K3kYJr6d5JC",
        "outputId": "4a60b094-4377-4bca-9a47-006a17dc7eb7"
      },
      "execution_count": 52,
      "outputs": [
        {
          "output_type": "stream",
          "name": "stdout",
          "text": [
            "O score de treino do modelo gerado pela biblioteca TPOT foi: 1.0\n",
            "O score de teste do modelo gerado pela biblioteca TPOT foi: 0.972\n"
          ]
        }
      ]
    },
    {
      "cell_type": "markdown",
      "source": [
        "## Matriz de confusão\n",
        "A matriz de confusão é útil, pois nos mostra onde o modelo 'confundiu' uma classe com a outra classe. Também, com ela, será possível calcular as métricas de avaliação do modelo.\n",
        "\n",
        "Os valores que o modelo acertou estão na diagonal principal da matriz de confusão.\n",
        "\n",
        "A matriz de confusão mostra que:\n",
        "\n",
        "1) para a classe 0 acertou 126 de 126 (100% de precisão);\n",
        "\n",
        "2) para a classe 1 o modelo acertou 118 de 129, e 'confundiu' 6 observações com a classe 0 e 5 observações com a classe 2.\n",
        "\n",
        "3) Na classe 2, acertou 109 de 110 e confundiu uma com a classe 3;\n",
        "\n",
        "4) por fim, acertou 129 de 135 na classe3 e confundiu 6 com a classe2."
      ],
      "metadata": {
        "id": "ADyz603qd-gb"
      }
    },
    {
      "cell_type": "code",
      "source": [
        "print(pd.crosstab(y_teste,pipeline_optimizer.predict(X_teste),rownames=['Real'],colnames=['Predito'],margins=True))"
      ],
      "metadata": {
        "colab": {
          "base_uri": "https://localhost:8080/"
        },
        "id": "mKP5ZCtEd_3S",
        "outputId": "af412f86-9f61-467e-a316-50817ae27228"
      },
      "execution_count": 53,
      "outputs": [
        {
          "output_type": "stream",
          "name": "stdout",
          "text": [
            "Predito    0    1    2    3  All\n",
            "Real                            \n",
            "0        127    5    0    0  132\n",
            "1          0  118    0    0  118\n",
            "2          0    2  112    6  120\n",
            "3          0    0    1  129  130\n",
            "All      127  125  113  135  500\n"
          ]
        }
      ]
    },
    {
      "cell_type": "markdown",
      "source": [
        "# Métricas de avaliação\n",
        "Como estamos avaliando uma classificação multiclasse, usaremos as seguintes métricas de avaliação: acurácia, precisão, recall e f1-score. Podemos ver que todos os resultados estão bem próximos um do outro, flutuando entre 97.4%."
      ],
      "metadata": {
        "id": "zbkgH5seeELT"
      }
    },
    {
      "cell_type": "code",
      "source": [
        "from sklearn.metrics import accuracy_score\n",
        "accuracy_score(y_teste,y_prev)"
      ],
      "metadata": {
        "colab": {
          "base_uri": "https://localhost:8080/"
        },
        "id": "qWnG8h7weFhi",
        "outputId": "d1aff429-9fb0-4729-df9b-3c47877c2230"
      },
      "execution_count": 54,
      "outputs": [
        {
          "output_type": "execute_result",
          "data": {
            "text/plain": [
              "0.972"
            ]
          },
          "metadata": {},
          "execution_count": 54
        }
      ]
    },
    {
      "cell_type": "code",
      "source": [
        "from sklearn.metrics import precision_score\n",
        "print(precision_score(y_teste, y_prev,average='macro'))\n",
        "print(precision_score(y_teste, y_prev,average='micro'))\n",
        "print(precision_score(y_teste, y_prev,average='weighted'))"
      ],
      "metadata": {
        "colab": {
          "base_uri": "https://localhost:8080/"
        },
        "id": "g-2Anc0teI87",
        "outputId": "6c1a97ca-1031-4ef3-8724-1219698fe0ba"
      },
      "execution_count": 55,
      "outputs": [
        {
          "output_type": "stream",
          "name": "stdout",
          "text": [
            "0.9726764995083579\n",
            "0.972\n",
            "0.9731045506391347\n"
          ]
        }
      ]
    },
    {
      "cell_type": "code",
      "source": [
        "from sklearn.metrics import recall_score\n",
        "print(recall_score(y_teste, y_prev,average='macro'))\n",
        "print(recall_score(y_teste, y_prev,average='micro'))\n",
        "print(recall_score(y_teste, y_prev,average='weighted'))"
      ],
      "metadata": {
        "colab": {
          "base_uri": "https://localhost:8080/"
        },
        "id": "77ZVdvhGeKvC",
        "outputId": "32ec655d-a201-4017-9a7f-3856143361ca"
      },
      "execution_count": 56,
      "outputs": [
        {
          "output_type": "stream",
          "name": "stdout",
          "text": [
            "0.9719405594405595\n",
            "0.972\n",
            "0.972\n"
          ]
        }
      ]
    },
    {
      "cell_type": "code",
      "source": [
        "from sklearn.metrics import f1_score\n",
        "print(f1_score(y_teste, y_prev, average='macro'))\n",
        "print(f1_score(y_teste, y_prev, average='micro'))\n",
        "print(f1_score(y_teste, y_prev, average='weighted'))"
      ],
      "metadata": {
        "colab": {
          "base_uri": "https://localhost:8080/"
        },
        "id": "NGjnpPkEeMWi",
        "outputId": "98872c65-7143-48aa-9977-e36c577f589c"
      },
      "execution_count": 57,
      "outputs": [
        {
          "output_type": "stream",
          "name": "stdout",
          "text": [
            "0.9717116731377895\n",
            "0.972\n",
            "0.9719668101996135\n"
          ]
        }
      ]
    },
    {
      "cell_type": "markdown",
      "source": [
        "# Relatório de métricas por classe\n",
        "Abaixo podemos ver os resultados por classe.\n",
        "\n",
        "A classe com maior precisão foi a classe 0, seguida da classe 2, depois 3 e, por fim, a classe 1. As demais métricas para todas as classes estão bem próximas d precisão, o que é um bom resultado."
      ],
      "metadata": {
        "id": "HAIHKI_seOSa"
      }
    },
    {
      "cell_type": "code",
      "source": [
        "from sklearn.metrics import classification_report\n",
        "valor_classe=[0,1,2,3]\n",
        "print(classification_report(y_teste,y_prev))"
      ],
      "metadata": {
        "colab": {
          "base_uri": "https://localhost:8080/"
        },
        "id": "F3ifiiqhePe8",
        "outputId": "09ed6962-3cf2-4dd2-8954-243512d1e62d"
      },
      "execution_count": 59,
      "outputs": [
        {
          "output_type": "stream",
          "name": "stdout",
          "text": [
            "              precision    recall  f1-score   support\n",
            "\n",
            "           0       1.00      0.96      0.98       132\n",
            "           1       0.94      1.00      0.97       118\n",
            "           2       0.99      0.93      0.96       120\n",
            "           3       0.96      0.99      0.97       130\n",
            "\n",
            "    accuracy                           0.97       500\n",
            "   macro avg       0.97      0.97      0.97       500\n",
            "weighted avg       0.97      0.97      0.97       500\n",
            "\n"
          ]
        }
      ]
    },
    {
      "cell_type": "markdown",
      "source": [
        "# Classificando o dataset de treino\n",
        "Agora que temos um modelo com um bom desempenho, vamos usá-lo em dados da base teste para gerar a classificação com os dados do dataset de teste. Antes disso vamos fazer o procedimento de padronização no dataset de teste."
      ],
      "metadata": {
        "id": "zfYzLFguepVr"
      }
    },
    {
      "cell_type": "code",
      "source": [
        "scaler = StandardScaler().fit(test)\n",
        "test=scaler.transform(test)"
      ],
      "metadata": {
        "id": "WIpf_rVkeqkK"
      },
      "execution_count": 60,
      "outputs": []
    },
    {
      "cell_type": "code",
      "source": [
        "test"
      ],
      "metadata": {
        "colab": {
          "base_uri": "https://localhost:8080/"
        },
        "id": "yVlML62jetPc",
        "outputId": "76e01c9a-b65f-4207-bdbf-4c3fdade9388"
      },
      "execution_count": 61,
      "outputs": [
        {
          "output_type": "execute_result",
          "data": {
            "text/plain": [
              "array([[-0.47545131,  0.968496  ,  0.31260069, ..., -1.76021608,\n",
              "         1.        , -1.01409939],\n",
              "       [-0.94278218,  0.968496  , -1.25583195, ...,  0.56811207,\n",
              "        -1.        , -1.01409939],\n",
              "       [ 1.29207729,  0.968496  ,  1.51908734, ..., -1.76021608,\n",
              "         1.        ,  0.98609664],\n",
              "       ...,\n",
              "       [-0.1469316 , -1.03252879, -0.16999397, ...,  0.56811207,\n",
              "        -1.        , -1.01409939],\n",
              "       [ 0.65817305,  0.968496  , -1.25583195, ..., -1.76021608,\n",
              "         1.        , -1.01409939],\n",
              "       [ 0.04971753,  0.968496  , -1.25583195, ...,  0.56811207,\n",
              "        -1.        ,  0.98609664]])"
            ]
          },
          "metadata": {},
          "execution_count": 61
        }
      ]
    },
    {
      "cell_type": "code",
      "source": [
        "#classificando a base de teste\n",
        "pipeline_optimizer.predict(test)"
      ],
      "metadata": {
        "colab": {
          "base_uri": "https://localhost:8080/"
        },
        "id": "pe_OEn33evDi",
        "outputId": "32ded2c0-0e03-470b-f1db-8b620a96f295"
      },
      "execution_count": 62,
      "outputs": [
        {
          "output_type": "execute_result",
          "data": {
            "text/plain": [
              "array([2, 3, 2, 3, 1, 3, 3, 1, 3, 0, 3, 3, 0, 0, 2, 0, 2, 1, 3, 2, 1, 3,\n",
              "       1, 1, 3, 0, 2, 0, 3, 0, 2, 0, 3, 0, 0, 1, 3, 1, 2, 1, 1, 2, 0, 0,\n",
              "       0, 1, 0, 3, 1, 2, 1, 0, 3, 0, 3, 1, 3, 1, 1, 3, 3, 3, 0, 1, 0, 1,\n",
              "       2, 3, 1, 2, 1, 2, 2, 3, 3, 0, 2, 0, 1, 3, 0, 3, 3, 0, 3, 0, 3, 1,\n",
              "       3, 0, 1, 2, 2, 1, 2, 2, 1, 2, 1, 2, 1, 0, 0, 3, 0, 2, 0, 1, 2, 3,\n",
              "       3, 3, 1, 3, 3, 3, 3, 2, 3, 0, 0, 3, 2, 1, 2, 0, 3, 2, 2, 2, 0, 2,\n",
              "       1, 1, 3, 1, 1, 0, 3, 2, 1, 2, 1, 2, 2, 3, 3, 3, 2, 3, 2, 3, 1, 0,\n",
              "       3, 2, 3, 3, 3, 3, 2, 2, 3, 3, 3, 3, 1, 0, 3, 0, 0, 0, 2, 1, 0, 1,\n",
              "       0, 0, 1, 2, 1, 0, 0, 1, 1, 2, 2, 1, 0, 0, 0, 1, 0, 3, 1, 0, 2, 2,\n",
              "       2, 3, 1, 1, 3, 2, 3, 2, 2, 1, 1, 0, 1, 3, 0, 2, 3, 3, 0, 2, 0, 3,\n",
              "       2, 3, 3, 1, 0, 1, 0, 3, 0, 1, 0, 2, 2, 1, 3, 1, 3, 0, 3, 1, 2, 0,\n",
              "       0, 2, 1, 3, 3, 3, 1, 1, 3, 0, 0, 2, 3, 3, 1, 3, 1, 1, 3, 2, 1, 2,\n",
              "       3, 3, 3, 1, 0, 1, 2, 3, 1, 1, 3, 2, 1, 3, 0, 0, 2, 0, 0, 3, 2, 3,\n",
              "       3, 2, 1, 3, 3, 2, 3, 1, 2, 1, 2, 0, 2, 3, 1, 0, 0, 3, 0, 3, 0, 1,\n",
              "       2, 0, 2, 3, 1, 3, 2, 2, 1, 2, 0, 0, 0, 1, 3, 2, 0, 0, 0, 3, 2, 0,\n",
              "       2, 3, 1, 2, 2, 2, 3, 1, 3, 3, 2, 2, 2, 3, 3, 0, 3, 0, 3, 1, 3, 1,\n",
              "       2, 3, 0, 1, 0, 3, 1, 3, 2, 3, 0, 0, 0, 0, 2, 0, 0, 2, 2, 1, 2, 2,\n",
              "       2, 0, 1, 0, 0, 3, 2, 0, 3, 1, 2, 2, 1, 2, 3, 1, 1, 2, 2, 1, 2, 0,\n",
              "       1, 1, 0, 3, 2, 1, 0, 1, 0, 0, 1, 1, 0, 0, 0, 2, 2, 3, 2, 3, 0, 3,\n",
              "       0, 3, 0, 1, 1, 0, 2, 0, 3, 2, 3, 3, 1, 3, 1, 3, 1, 3, 2, 0, 1, 2,\n",
              "       1, 1, 0, 0, 0, 1, 2, 1, 0, 3, 2, 0, 2, 2, 0, 0, 3, 1, 2, 0, 2, 3,\n",
              "       3, 0, 3, 0, 2, 3, 2, 3, 0, 2, 0, 2, 3, 0, 1, 1, 0, 0, 1, 1, 1, 3,\n",
              "       3, 3, 2, 3, 1, 2, 2, 3, 3, 3, 2, 0, 2, 1, 2, 2, 1, 0, 2, 2, 0, 0,\n",
              "       0, 3, 1, 0, 2, 2, 2, 0, 3, 1, 2, 2, 1, 3, 0, 2, 3, 0, 1, 1, 3, 3,\n",
              "       1, 1, 1, 3, 2, 0, 2, 1, 2, 0, 3, 3, 1, 2, 2, 2, 3, 0, 1, 2, 3, 1,\n",
              "       3, 2, 3, 1, 1, 0, 0, 3, 1, 0, 3, 2, 3, 2, 0, 3, 3, 3, 2, 3, 3, 1,\n",
              "       2, 0, 2, 2, 3, 1, 0, 1, 1, 2, 2, 2, 0, 0, 2, 2, 3, 2, 0, 2, 1, 3,\n",
              "       3, 0, 1, 3, 0, 2, 1, 1, 0, 0, 2, 1, 0, 1, 1, 2, 2, 0, 2, 2, 1, 0,\n",
              "       3, 0, 0, 3, 2, 0, 0, 1, 0, 0, 3, 0, 3, 1, 3, 2, 1, 3, 3, 0, 1, 0,\n",
              "       3, 2, 2, 2, 0, 3, 0, 2, 0, 2, 0, 1, 1, 1, 1, 2, 1, 3, 1, 3, 2, 2,\n",
              "       1, 3, 2, 0, 2, 2, 0, 3, 3, 0, 2, 1, 1, 2, 0, 3, 2, 0, 3, 2, 3, 0,\n",
              "       0, 3, 0, 2, 2, 3, 2, 2, 2, 2, 1, 2, 3, 0, 1, 0, 1, 2, 1, 0, 0, 1,\n",
              "       0, 0, 3, 0, 1, 2, 0, 0, 1, 1, 3, 0, 3, 2, 3, 0, 0, 1, 2, 2, 1, 0,\n",
              "       1, 2, 0, 1, 1, 0, 0, 3, 3, 0, 3, 1, 1, 3, 0, 1, 0, 2, 2, 0, 3, 1,\n",
              "       0, 3, 0, 1, 0, 3, 3, 3, 2, 3, 0, 3, 2, 0, 0, 0, 3, 3, 2, 0, 2, 1,\n",
              "       3, 0, 0, 2, 2, 0, 3, 1, 2, 1, 1, 2, 3, 1, 1, 1, 2, 1, 0, 2, 2, 0,\n",
              "       2, 0, 0, 0, 0, 2, 3, 3, 3, 0, 1, 2, 1, 1, 0, 0, 2, 1, 0, 2, 0, 3,\n",
              "       2, 2, 1, 2, 0, 2, 1, 3, 0, 0, 3, 2, 3, 0, 0, 2, 3, 3, 1, 3, 2, 1,\n",
              "       0, 0, 3, 3, 0, 3, 0, 0, 0, 2, 2, 1, 2, 0, 3, 2, 1, 2, 3, 3, 0, 1,\n",
              "       1, 2, 1, 2, 2, 0, 1, 3, 1, 1, 3, 0, 2, 3, 2, 1, 1, 1, 3, 3, 0, 2,\n",
              "       3, 0, 2, 3, 2, 2, 2, 3, 2, 0, 1, 2, 1, 2, 1, 1, 2, 2, 2, 1, 2, 1,\n",
              "       1, 1, 3, 1, 0, 1, 2, 3, 1, 0, 0, 3, 2, 2, 3, 0, 3, 2, 2, 1, 3, 0,\n",
              "       1, 3, 1, 1, 1, 1, 3, 2, 0, 3, 0, 2, 3, 0, 3, 1, 3, 3, 1, 0, 2, 3,\n",
              "       1, 0, 2, 1, 2, 1, 2, 0, 2, 2, 0, 2, 3, 2, 3, 0, 2, 1, 1, 2, 2, 3,\n",
              "       3, 0, 2, 1, 2, 1, 3, 1, 1, 3, 0, 1, 0, 0, 3, 3, 2, 0, 0, 0, 0, 3,\n",
              "       2, 3, 3, 0, 0, 2, 1, 0, 2, 2])"
            ]
          },
          "metadata": {},
          "execution_count": 62
        }
      ]
    },
    {
      "cell_type": "code",
      "source": [
        "prev=pd.DataFrame(pipeline_optimizer.predict(test))"
      ],
      "metadata": {
        "id": "pf4JriJrexpy"
      },
      "execution_count": 63,
      "outputs": []
    },
    {
      "cell_type": "markdown",
      "source": [
        "Abaixo podemos ver o valor predito para cada uma das classes."
      ],
      "metadata": {
        "id": "r1lOGASvezhK"
      }
    },
    {
      "cell_type": "code",
      "source": [
        "prev[0].value_counts()"
      ],
      "metadata": {
        "colab": {
          "base_uri": "https://localhost:8080/"
        },
        "id": "idIuueJVez0D",
        "outputId": "9d43b145-016f-4b7a-9dfd-89847a72d9e8"
      },
      "execution_count": 64,
      "outputs": [
        {
          "output_type": "execute_result",
          "data": {
            "text/plain": [
              "2    259\n",
              "3    255\n",
              "0    255\n",
              "1    231\n",
              "Name: 0, dtype: int64"
            ]
          },
          "metadata": {},
          "execution_count": 64
        }
      ]
    },
    {
      "cell_type": "markdown",
      "source": [
        "Abaixo, de forma gráfico e ordenadas as classes, os mesmo valores acima."
      ],
      "metadata": {
        "id": "MJrxxx57e2kD"
      }
    },
    {
      "cell_type": "code",
      "source": [
        "plt.figure(figsize=(20,7))\n",
        "sns.countplot(prev[0],palette='Paired')\n",
        "plt.title('Previsões do modelo de AutoML',size=15)\n",
        "plt.xlabel('Classes',size=15)\n",
        "plt.ylabel('')\n",
        "plt.show()"
      ],
      "metadata": {
        "colab": {
          "base_uri": "https://localhost:8080/",
          "height": 520
        },
        "id": "xSaNSXHte28T",
        "outputId": "8122accb-2f7c-4689-9a1a-4fde31235b60"
      },
      "execution_count": 65,
      "outputs": [
        {
          "output_type": "stream",
          "name": "stderr",
          "text": [
            "/usr/local/lib/python3.8/dist-packages/seaborn/_decorators.py:36: FutureWarning: Pass the following variable as a keyword arg: x. From version 0.12, the only valid positional argument will be `data`, and passing other arguments without an explicit keyword will result in an error or misinterpretation.\n",
            "  warnings.warn(\n"
          ]
        },
        {
          "output_type": "display_data",
          "data": {
            "text/plain": [
              "<Figure size 1440x504 with 1 Axes>"
            ],
            "image/png": "[encoded data removed]"
          },
          "metadata": {
            "needs_background": "light"
          }
        }
      ]
    },
    {
      "cell_type": "markdown",
      "source": [
        "# Conclusão\n",
        "Usamos a a biblioteca de AutoML TPOT e obtivemos um modelo com uma alta acurácia e com métricas de avaliação bastante elevadas, sem a necessidade de ficarmos escolhendo modelos e de fazer tunnings com os hiperparâmetros."
      ],
      "metadata": {
        "id": "1x8pN_7Ke5-i"
      }
    }
  ]
}